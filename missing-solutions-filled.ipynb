{
 "cells": [
  {
   "cell_type": "markdown",
   "id": "56a8a705",
   "metadata": {
    "papermill": {
     "duration": 0.009897,
     "end_time": "2024-05-12T15:10:28.659177",
     "exception": false,
     "start_time": "2024-05-12T15:10:28.649280",
     "status": "completed"
    },
    "tags": []
   },
   "source": [
    "# Functions defined"
   ]
  },
  {
   "cell_type": "code",
   "execution_count": 1,
   "id": "7d3c204c",
   "metadata": {
    "execution": {
     "iopub.execute_input": "2024-05-12T15:10:28.679739Z",
     "iopub.status.busy": "2024-05-12T15:10:28.678791Z",
     "iopub.status.idle": "2024-05-12T15:10:29.337115Z",
     "shell.execute_reply": "2024-05-12T15:10:29.336178Z"
    },
    "papermill": {
     "duration": 0.671051,
     "end_time": "2024-05-12T15:10:29.339542",
     "exception": false,
     "start_time": "2024-05-12T15:10:28.668491",
     "status": "completed"
    },
    "tags": []
   },
   "outputs": [],
   "source": [
    "import pandas as pd"
   ]
  },
  {
   "cell_type": "code",
   "execution_count": 2,
   "id": "92e72790",
   "metadata": {
    "execution": {
     "iopub.execute_input": "2024-05-12T15:10:29.359871Z",
     "iopub.status.busy": "2024-05-12T15:10:29.359189Z",
     "iopub.status.idle": "2024-05-12T15:10:29.366812Z",
     "shell.execute_reply": "2024-05-12T15:10:29.365980Z"
    },
    "papermill": {
     "duration": 0.019713,
     "end_time": "2024-05-12T15:10:29.368782",
     "exception": false,
     "start_time": "2024-05-12T15:10:29.349069",
     "status": "completed"
    },
    "tags": []
   },
   "outputs": [],
   "source": [
    "def split_solution_by_word_count(input_df, threshold=700):\n",
    "    # Function to calculate the word count of a text\n",
    "    def word_count(text):\n",
    "        return len(text.split())\n",
    "\n",
    "    # Copy the input DataFrame to avoid modifying the original DataFrame\n",
    "    df = input_df.copy()\n",
    "\n",
    "    # Calculate the word count for each row in the 'solution' column\n",
    "    df['solution_word_count'] = df['solution'].apply(word_count)\n",
    "\n",
    "    # Split the dataset based on the word count condition\n",
    "    below_threshold = df[df['solution_word_count'] < threshold]\n",
    "    above_or_equal_threshold = df[df['solution_word_count'] >= threshold]\n",
    "\n",
    "    # Drop the 'solution_word_count' column if you no longer need it\n",
    "    below_threshold.drop(columns=['solution_word_count'], inplace=True)\n",
    "    above_or_equal_threshold.drop(columns=['solution_word_count'], inplace=True)\n",
    "\n",
    "    return below_threshold, above_or_equal_threshold"
   ]
  },
  {
   "cell_type": "markdown",
   "id": "07f905ba",
   "metadata": {
    "papermill": {
     "duration": 0.00921,
     "end_time": "2024-05-12T15:10:29.387179",
     "exception": false,
     "start_time": "2024-05-12T15:10:29.377969",
     "status": "completed"
    },
    "tags": []
   },
   "source": [
    "# Math Dataset\n",
    "## Use the variable MATH_below_700_words"
   ]
  },
  {
   "cell_type": "code",
   "execution_count": 3,
   "id": "4a9b2c8f",
   "metadata": {
    "execution": {
     "iopub.execute_input": "2024-05-12T15:10:29.406952Z",
     "iopub.status.busy": "2024-05-12T15:10:29.406623Z",
     "iopub.status.idle": "2024-05-12T15:10:29.771939Z",
     "shell.execute_reply": "2024-05-12T15:10:29.770824Z"
    },
    "papermill": {
     "duration": 0.378034,
     "end_time": "2024-05-12T15:10:29.774349",
     "exception": false,
     "start_time": "2024-05-12T15:10:29.396315",
     "status": "completed"
    },
    "tags": []
   },
   "outputs": [
    {
     "name": "stdout",
     "output_type": "stream",
     "text": [
      "Length of MATH_df: 12500\n",
      "Length of GSM8K_df: 8792\n"
     ]
    }
   ],
   "source": [
    "# This is GSM8K and MATH\n",
    "extra_dataset = pd.read_csv('/kaggle/input/aimo-external-dataset/external_df.csv')\n",
    "# Separate into two DataFrames based on the 'source' column\n",
    "MATH_df = extra_dataset[extra_dataset['source'] == 'MATH']\n",
    "GSM8K_df = extra_dataset[extra_dataset['source'] == 'GSM8K']\n",
    "\n",
    "print(\"Length of MATH_df:\", len(MATH_df))\n",
    "print(\"Length of GSM8K_df:\", len(GSM8K_df))"
   ]
  },
  {
   "cell_type": "code",
   "execution_count": 4,
   "id": "60ffe625",
   "metadata": {
    "execution": {
     "iopub.execute_input": "2024-05-12T15:10:29.796030Z",
     "iopub.status.busy": "2024-05-12T15:10:29.795303Z",
     "iopub.status.idle": "2024-05-12T15:10:29.810990Z",
     "shell.execute_reply": "2024-05-12T15:10:29.810079Z"
    },
    "papermill": {
     "duration": 0.028477,
     "end_time": "2024-05-12T15:10:29.812861",
     "exception": false,
     "start_time": "2024-05-12T15:10:29.784384",
     "status": "completed"
    },
    "tags": []
   },
   "outputs": [
    {
     "data": {
      "text/html": [
       "<div>\n",
       "<style scoped>\n",
       "    .dataframe tbody tr th:only-of-type {\n",
       "        vertical-align: middle;\n",
       "    }\n",
       "\n",
       "    .dataframe tbody tr th {\n",
       "        vertical-align: top;\n",
       "    }\n",
       "\n",
       "    .dataframe thead th {\n",
       "        text-align: right;\n",
       "    }\n",
       "</style>\n",
       "<table border=\"1\" class=\"dataframe\">\n",
       "  <thead>\n",
       "    <tr style=\"text-align: right;\">\n",
       "      <th></th>\n",
       "      <th>problem</th>\n",
       "      <th>level</th>\n",
       "      <th>type</th>\n",
       "      <th>solution</th>\n",
       "      <th>stage</th>\n",
       "      <th>source</th>\n",
       "    </tr>\n",
       "  </thead>\n",
       "  <tbody>\n",
       "    <tr>\n",
       "      <th>0</th>\n",
       "      <td>Kevin Kangaroo begins hopping on a number line...</td>\n",
       "      <td>Level 5</td>\n",
       "      <td>Algebra</td>\n",
       "      <td>Kevin hops $1/3$ of the remaining distance wit...</td>\n",
       "      <td>train</td>\n",
       "      <td>MATH</td>\n",
       "    </tr>\n",
       "    <tr>\n",
       "      <th>1</th>\n",
       "      <td>The ratio of the areas of two squares is $\\fra...</td>\n",
       "      <td>Level 4</td>\n",
       "      <td>Algebra</td>\n",
       "      <td>We start off by simplifying the ratio $\\frac{1...</td>\n",
       "      <td>train</td>\n",
       "      <td>MATH</td>\n",
       "    </tr>\n",
       "    <tr>\n",
       "      <th>2</th>\n",
       "      <td>If $\\sqrt{2\\sqrt{t-2}} = \\sqrt[4]{7 - t}$, the...</td>\n",
       "      <td>Level 4</td>\n",
       "      <td>Algebra</td>\n",
       "      <td>We raise both sides to the fourth power, which...</td>\n",
       "      <td>train</td>\n",
       "      <td>MATH</td>\n",
       "    </tr>\n",
       "    <tr>\n",
       "      <th>3</th>\n",
       "      <td>Let $t(x) = \\sqrt{3x+1}$ and $f(x)=5-t(x)$. Wh...</td>\n",
       "      <td>Level 4</td>\n",
       "      <td>Algebra</td>\n",
       "      <td>We first evaluate $f(5) = 5 -t(5) = 5-\\sqrt{5\\...</td>\n",
       "      <td>train</td>\n",
       "      <td>MATH</td>\n",
       "    </tr>\n",
       "    <tr>\n",
       "      <th>4</th>\n",
       "      <td>James has a total of 66 dollars in his piggy b...</td>\n",
       "      <td>Level 2</td>\n",
       "      <td>Algebra</td>\n",
       "      <td>Call the number of one dollar bills $x$ and th...</td>\n",
       "      <td>train</td>\n",
       "      <td>MATH</td>\n",
       "    </tr>\n",
       "  </tbody>\n",
       "</table>\n",
       "</div>"
      ],
      "text/plain": [
       "                                             problem    level     type  \\\n",
       "0  Kevin Kangaroo begins hopping on a number line...  Level 5  Algebra   \n",
       "1  The ratio of the areas of two squares is $\\fra...  Level 4  Algebra   \n",
       "2  If $\\sqrt{2\\sqrt{t-2}} = \\sqrt[4]{7 - t}$, the...  Level 4  Algebra   \n",
       "3  Let $t(x) = \\sqrt{3x+1}$ and $f(x)=5-t(x)$. Wh...  Level 4  Algebra   \n",
       "4  James has a total of 66 dollars in his piggy b...  Level 2  Algebra   \n",
       "\n",
       "                                            solution  stage source  \n",
       "0  Kevin hops $1/3$ of the remaining distance wit...  train   MATH  \n",
       "1  We start off by simplifying the ratio $\\frac{1...  train   MATH  \n",
       "2  We raise both sides to the fourth power, which...  train   MATH  \n",
       "3  We first evaluate $f(5) = 5 -t(5) = 5-\\sqrt{5\\...  train   MATH  \n",
       "4  Call the number of one dollar bills $x$ and th...  train   MATH  "
      ]
     },
     "execution_count": 4,
     "metadata": {},
     "output_type": "execute_result"
    }
   ],
   "source": [
    "MATH_df.head()"
   ]
  },
  {
   "cell_type": "code",
   "execution_count": 5,
   "id": "1513f569",
   "metadata": {
    "execution": {
     "iopub.execute_input": "2024-05-12T15:10:29.834451Z",
     "iopub.status.busy": "2024-05-12T15:10:29.833886Z",
     "iopub.status.idle": "2024-05-12T15:10:29.842285Z",
     "shell.execute_reply": "2024-05-12T15:10:29.841346Z"
    },
    "papermill": {
     "duration": 0.021759,
     "end_time": "2024-05-12T15:10:29.844267",
     "exception": false,
     "start_time": "2024-05-12T15:10:29.822508",
     "status": "completed"
    },
    "tags": []
   },
   "outputs": [
    {
     "name": "stdout",
     "output_type": "stream",
     "text": [
      "['Algebra' 'Counting & Probability' 'Geometry' 'Intermediate Algebra'\n",
      " 'Number Theory' 'Prealgebra' 'Precalculus']\n",
      "Algebra\n",
      "Counting & Probability\n",
      "Geometry\n",
      "Intermediate Algebra\n",
      "Number Theory\n",
      "Prealgebra\n",
      "Precalculus\n"
     ]
    }
   ],
   "source": [
    "unique_links = MATH_df['type'].unique()\n",
    "print(unique_links)\n",
    "for link in unique_links:\n",
    "    print(link)"
   ]
  },
  {
   "cell_type": "code",
   "execution_count": 6,
   "id": "c98365e0",
   "metadata": {
    "execution": {
     "iopub.execute_input": "2024-05-12T15:10:29.865243Z",
     "iopub.status.busy": "2024-05-12T15:10:29.864589Z",
     "iopub.status.idle": "2024-05-12T15:10:29.882126Z",
     "shell.execute_reply": "2024-05-12T15:10:29.881005Z"
    },
    "papermill": {
     "duration": 0.030268,
     "end_time": "2024-05-12T15:10:29.884177",
     "exception": false,
     "start_time": "2024-05-12T15:10:29.853909",
     "status": "completed"
    },
    "tags": []
   },
   "outputs": [
    {
     "name": "stdout",
     "output_type": "stream",
     "text": [
      "Length of level_4_5_data: 6532\n",
      "Length of other_levels_data: 5968\n"
     ]
    }
   ],
   "source": [
    "# Filtered to only use levels 4 and 5 \n",
    "level_4_5_data = MATH_df[(MATH_df['level'] == 'Level 4') | (MATH_df['level'] == 'Level 5')]\n",
    "other_levels_data = MATH_df[(MATH_df['level'] != 'Level 4') & (MATH_df['level'] != 'Level 5')]\n",
    "\n",
    "print(\"Length of level_4_5_data:\", len(level_4_5_data))\n",
    "\n",
    "# Check the length of other_levels_data DataFrame\n",
    "print(\"Length of other_levels_data:\", len(other_levels_data))"
   ]
  },
  {
   "cell_type": "code",
   "execution_count": 7,
   "id": "5b208ed8",
   "metadata": {
    "execution": {
     "iopub.execute_input": "2024-05-12T15:10:29.905892Z",
     "iopub.status.busy": "2024-05-12T15:10:29.905566Z",
     "iopub.status.idle": "2024-05-12T15:10:29.968507Z",
     "shell.execute_reply": "2024-05-12T15:10:29.967399Z"
    },
    "papermill": {
     "duration": 0.075966,
     "end_time": "2024-05-12T15:10:29.970638",
     "exception": false,
     "start_time": "2024-05-12T15:10:29.894672",
     "status": "completed"
    },
    "tags": []
   },
   "outputs": [
    {
     "name": "stderr",
     "output_type": "stream",
     "text": [
      "/tmp/ipykernel_23/4111736374.py:17: SettingWithCopyWarning: \n",
      "A value is trying to be set on a copy of a slice from a DataFrame\n",
      "\n",
      "See the caveats in the documentation: https://pandas.pydata.org/pandas-docs/stable/user_guide/indexing.html#returning-a-view-versus-a-copy\n",
      "  below_threshold.drop(columns=['solution_word_count'], inplace=True)\n",
      "/tmp/ipykernel_23/4111736374.py:18: SettingWithCopyWarning: \n",
      "A value is trying to be set on a copy of a slice from a DataFrame\n",
      "\n",
      "See the caveats in the documentation: https://pandas.pydata.org/pandas-docs/stable/user_guide/indexing.html#returning-a-view-versus-a-copy\n",
      "  above_or_equal_threshold.drop(columns=['solution_word_count'], inplace=True)\n"
     ]
    }
   ],
   "source": [
    "MATH_below_700_words, MATH_above_or_equal_700_words = split_solution_by_word_count(level_4_5_data)"
   ]
  },
  {
   "cell_type": "code",
   "execution_count": 8,
   "id": "01a9f3e5",
   "metadata": {
    "execution": {
     "iopub.execute_input": "2024-05-12T15:10:29.991941Z",
     "iopub.status.busy": "2024-05-12T15:10:29.991617Z",
     "iopub.status.idle": "2024-05-12T15:10:29.997506Z",
     "shell.execute_reply": "2024-05-12T15:10:29.996652Z"
    },
    "papermill": {
     "duration": 0.01886,
     "end_time": "2024-05-12T15:10:29.999518",
     "exception": false,
     "start_time": "2024-05-12T15:10:29.980658",
     "status": "completed"
    },
    "tags": []
   },
   "outputs": [
    {
     "name": "stdout",
     "output_type": "stream",
     "text": [
      "Rows in below_700_words (solutions < 700 words): 6526\n",
      "Rows in above_or_equal_700_words (solutions >= 700 words): 6\n",
      "Words in first row of below_700_words' solution: 91\n",
      "Words in first row of above_or_equal_700_words' solution: 777\n"
     ]
    }
   ],
   "source": [
    "print(\"Rows in below_700_words (solutions < 700 words):\", len(MATH_below_700_words))\n",
    "print(\"Rows in above_or_equal_700_words (solutions >= 700 words):\", len(MATH_above_or_equal_700_words))\n",
    "\n",
    "print(\"Words in first row of below_700_words' solution:\", len(MATH_below_700_words.iloc[0]['solution'].split()))\n",
    "print(\"Words in first row of above_or_equal_700_words' solution:\", len(MATH_above_or_equal_700_words.iloc[0]['solution'].split()))"
   ]
  },
  {
   "cell_type": "markdown",
   "id": "85ed0729",
   "metadata": {
    "papermill": {
     "duration": 0.009621,
     "end_time": "2024-05-12T15:10:30.020051",
     "exception": false,
     "start_time": "2024-05-12T15:10:30.010430",
     "status": "completed"
    },
    "tags": []
   },
   "source": [
    "# Load Datasets\n",
    "## Use the variable below_700_words"
   ]
  },
  {
   "cell_type": "code",
   "execution_count": 9,
   "id": "304e6f4a",
   "metadata": {
    "execution": {
     "iopub.execute_input": "2024-05-12T15:10:30.041613Z",
     "iopub.status.busy": "2024-05-12T15:10:30.040797Z",
     "iopub.status.idle": "2024-05-12T15:10:30.059423Z",
     "shell.execute_reply": "2024-05-12T15:10:30.058485Z"
    },
    "papermill": {
     "duration": 0.031763,
     "end_time": "2024-05-12T15:10:30.061533",
     "exception": false,
     "start_time": "2024-05-12T15:10:30.029770",
     "status": "completed"
    },
    "tags": []
   },
   "outputs": [],
   "source": [
    "# https://www.kaggle.com/competitions/ai-mathematical-olympiad-prize/data\n",
    "\n",
    "# Load the training data\n",
    "train_data = pd.read_csv('/kaggle/input/ai-mathematical-olympiad-prize/train.csv')\n",
    "\n",
    "# Load the test data\n",
    "test_data = pd.read_csv('/kaggle/input/ai-mathematical-olympiad-prize/test.csv')\n",
    "\n",
    "# Now you can view the first few rows of each to confirm they're loaded correctly\n",
    "olympiad_data = pd.concat([train_data, test_data], ignore_index=True)\n",
    "\n"
   ]
  },
  {
   "cell_type": "code",
   "execution_count": 10,
   "id": "167ccab2",
   "metadata": {
    "execution": {
     "iopub.execute_input": "2024-05-12T15:10:30.083669Z",
     "iopub.status.busy": "2024-05-12T15:10:30.082911Z",
     "iopub.status.idle": "2024-05-12T15:10:30.098845Z",
     "shell.execute_reply": "2024-05-12T15:10:30.098029Z"
    },
    "papermill": {
     "duration": 0.028827,
     "end_time": "2024-05-12T15:10:30.100921",
     "exception": false,
     "start_time": "2024-05-12T15:10:30.072094",
     "status": "completed"
    },
    "tags": []
   },
   "outputs": [
    {
     "data": {
      "text/html": [
       "<div>\n",
       "<style scoped>\n",
       "    .dataframe tbody tr th:only-of-type {\n",
       "        vertical-align: middle;\n",
       "    }\n",
       "\n",
       "    .dataframe tbody tr th {\n",
       "        vertical-align: top;\n",
       "    }\n",
       "\n",
       "    .dataframe thead th {\n",
       "        text-align: right;\n",
       "    }\n",
       "</style>\n",
       "<table border=\"1\" class=\"dataframe\">\n",
       "  <thead>\n",
       "    <tr style=\"text-align: right;\">\n",
       "      <th></th>\n",
       "      <th>id</th>\n",
       "      <th>problem</th>\n",
       "      <th>answer</th>\n",
       "    </tr>\n",
       "  </thead>\n",
       "  <tbody>\n",
       "    <tr>\n",
       "      <th>0</th>\n",
       "      <td>229ee8</td>\n",
       "      <td>Let $k, l &gt; 0$ be parameters. The parabola $y ...</td>\n",
       "      <td>52.0</td>\n",
       "    </tr>\n",
       "    <tr>\n",
       "      <th>1</th>\n",
       "      <td>246d26</td>\n",
       "      <td>Each of the three-digits numbers $111$ to $999...</td>\n",
       "      <td>250.0</td>\n",
       "    </tr>\n",
       "    <tr>\n",
       "      <th>2</th>\n",
       "      <td>2fc4ad</td>\n",
       "      <td>Let the `sparkle' operation on positive intege...</td>\n",
       "      <td>702.0</td>\n",
       "    </tr>\n",
       "    <tr>\n",
       "      <th>3</th>\n",
       "      <td>430b63</td>\n",
       "      <td>What is the minimum value of $5x^2+5y^2-8xy$ w...</td>\n",
       "      <td>800.0</td>\n",
       "    </tr>\n",
       "    <tr>\n",
       "      <th>4</th>\n",
       "      <td>5277ed</td>\n",
       "      <td>There exists a unique increasing geometric seq...</td>\n",
       "      <td>211.0</td>\n",
       "    </tr>\n",
       "  </tbody>\n",
       "</table>\n",
       "</div>"
      ],
      "text/plain": [
       "       id                                            problem  answer\n",
       "0  229ee8  Let $k, l > 0$ be parameters. The parabola $y ...    52.0\n",
       "1  246d26  Each of the three-digits numbers $111$ to $999...   250.0\n",
       "2  2fc4ad  Let the `sparkle' operation on positive intege...   702.0\n",
       "3  430b63  What is the minimum value of $5x^2+5y^2-8xy$ w...   800.0\n",
       "4  5277ed  There exists a unique increasing geometric seq...   211.0"
      ]
     },
     "execution_count": 10,
     "metadata": {},
     "output_type": "execute_result"
    }
   ],
   "source": [
    "# Clean data\n",
    "olympiad_data.dropna()\n",
    "olympiad_data = olympiad_data.drop(['row_id'], axis=1)\n",
    "#View \n",
    "olympiad_data.head()\n"
   ]
  },
  {
   "cell_type": "code",
   "execution_count": 11,
   "id": "1608ecf0",
   "metadata": {
    "execution": {
     "iopub.execute_input": "2024-05-12T15:10:30.123724Z",
     "iopub.status.busy": "2024-05-12T15:10:30.122934Z",
     "iopub.status.idle": "2024-05-12T15:10:30.156973Z",
     "shell.execute_reply": "2024-05-12T15:10:30.156088Z"
    },
    "papermill": {
     "duration": 0.04744,
     "end_time": "2024-05-12T15:10:30.159136",
     "exception": false,
     "start_time": "2024-05-12T15:10:30.111696",
     "status": "completed"
    },
    "tags": []
   },
   "outputs": [
    {
     "data": {
      "text/html": [
       "<div>\n",
       "<style scoped>\n",
       "    .dataframe tbody tr th:only-of-type {\n",
       "        vertical-align: middle;\n",
       "    }\n",
       "\n",
       "    .dataframe tbody tr th {\n",
       "        vertical-align: top;\n",
       "    }\n",
       "\n",
       "    .dataframe thead th {\n",
       "        text-align: right;\n",
       "    }\n",
       "</style>\n",
       "<table border=\"1\" class=\"dataframe\">\n",
       "  <thead>\n",
       "    <tr style=\"text-align: right;\">\n",
       "      <th></th>\n",
       "      <th>id</th>\n",
       "      <th>problem</th>\n",
       "      <th>answer</th>\n",
       "    </tr>\n",
       "  </thead>\n",
       "  <tbody>\n",
       "    <tr>\n",
       "      <th>0</th>\n",
       "      <td>1983-1</td>\n",
       "      <td>Let $x$ , $y$ and $z$ all exceed $1$ and let $...</td>\n",
       "      <td>60</td>\n",
       "    </tr>\n",
       "    <tr>\n",
       "      <th>1</th>\n",
       "      <td>1983-2</td>\n",
       "      <td>Let $f(x)=|x-p|+|x-15|+|x-p-15|$ , where $0 &lt; ...</td>\n",
       "      <td>15</td>\n",
       "    </tr>\n",
       "    <tr>\n",
       "      <th>2</th>\n",
       "      <td>1983-3</td>\n",
       "      <td>What is the product of the real roots of the e...</td>\n",
       "      <td>20</td>\n",
       "    </tr>\n",
       "    <tr>\n",
       "      <th>3</th>\n",
       "      <td>1983-4</td>\n",
       "      <td>A machine-shop cutting tool has the shape of a...</td>\n",
       "      <td>26</td>\n",
       "    </tr>\n",
       "    <tr>\n",
       "      <th>4</th>\n",
       "      <td>1983-5</td>\n",
       "      <td>Suppose that the sum of the squares of two com...</td>\n",
       "      <td>4</td>\n",
       "    </tr>\n",
       "  </tbody>\n",
       "</table>\n",
       "</div>"
      ],
      "text/plain": [
       "       id                                            problem answer\n",
       "0  1983-1  Let $x$ , $y$ and $z$ all exceed $1$ and let $...     60\n",
       "1  1983-2  Let $f(x)=|x-p|+|x-15|+|x-p-15|$ , where $0 < ...     15\n",
       "2  1983-3  What is the product of the real roots of the e...     20\n",
       "3  1983-4  A machine-shop cutting tool has the shape of a...     26\n",
       "4  1983-5  Suppose that the sum of the squares of two com...      4"
      ]
     },
     "execution_count": 11,
     "metadata": {},
     "output_type": "execute_result"
    }
   ],
   "source": [
    "# No need to do regex\n",
    "aime_data = pd.read_csv('/kaggle/input/aime-problem-set-1983-2024/AIME_Dataset_1983_2024.csv')\n",
    "#Fix structure of columns\n",
    "# rm Year, Problem Number, Part\n",
    "aime_data = aime_data.drop(['Year', 'Problem Number', 'Part'], axis=1)\n",
    "aime_data.dropna()\n",
    "#rename Question: question, Answer:answer, ID:id\n",
    "aime_data.rename(columns={'ID': 'id','Question': 'problem', 'Answer': 'answer'}, inplace=True)\n",
    "#View\n",
    "aime_data.head()\n"
   ]
  },
  {
   "cell_type": "code",
   "execution_count": 12,
   "id": "50741c56",
   "metadata": {
    "execution": {
     "iopub.execute_input": "2024-05-12T15:10:30.182649Z",
     "iopub.status.busy": "2024-05-12T15:10:30.182035Z",
     "iopub.status.idle": "2024-05-12T15:10:30.416330Z",
     "shell.execute_reply": "2024-05-12T15:10:30.415361Z"
    },
    "papermill": {
     "duration": 0.247877,
     "end_time": "2024-05-12T15:10:30.418383",
     "exception": false,
     "start_time": "2024-05-12T15:10:30.170506",
     "status": "completed"
    },
    "tags": []
   },
   "outputs": [
    {
     "name": "stdout",
     "output_type": "stream",
     "text": [
      "['https://artofproblemsolving.com/wiki/index.php/2024_AMC_8_Problems/Problem_1'\n",
      " 'https://artofproblemsolving.com/wiki/index.php/2024_AMC_8_Problems/Problem_3'\n",
      " 'https://artofproblemsolving.com/wiki/index.php/2024_AMC_8_Problems/Problem_4'\n",
      " ...\n",
      " 'https://artofproblemsolving.com/wiki/index.php/1983_AIME_Problems/Problem_13'\n",
      " 'https://artofproblemsolving.com/wiki/index.php/1983_AIME_Problems/Problem_14'\n",
      " 'https://artofproblemsolving.com/wiki/index.php/1983_AIME_Problems/Problem_15']\n"
     ]
    },
    {
     "data": {
      "text/html": [
       "<div>\n",
       "<style scoped>\n",
       "    .dataframe tbody tr th:only-of-type {\n",
       "        vertical-align: middle;\n",
       "    }\n",
       "\n",
       "    .dataframe tbody tr th {\n",
       "        vertical-align: top;\n",
       "    }\n",
       "\n",
       "    .dataframe thead th {\n",
       "        text-align: right;\n",
       "    }\n",
       "</style>\n",
       "<table border=\"1\" class=\"dataframe\">\n",
       "  <thead>\n",
       "    <tr style=\"text-align: right;\">\n",
       "      <th></th>\n",
       "      <th>id</th>\n",
       "      <th>problem</th>\n",
       "      <th>solution</th>\n",
       "      <th>answer</th>\n",
       "    </tr>\n",
       "  </thead>\n",
       "  <tbody>\n",
       "    <tr>\n",
       "      <th>0</th>\n",
       "      <td>1</td>\n",
       "      <td>What is the ones digit of \\[222,222-22,222-2,2...</td>\n",
       "      <td>We can rewrite the expression as \\[222,222-(22...</td>\n",
       "      <td>2</td>\n",
       "    </tr>\n",
       "    <tr>\n",
       "      <th>1</th>\n",
       "      <td>2</td>\n",
       "      <td>What is the ones digit of \\[222,222-22,222-2,2...</td>\n",
       "      <td>222,222-22,222 = 200,000\\n200,000 - 2,222 = 19...</td>\n",
       "      <td>2</td>\n",
       "    </tr>\n",
       "    <tr>\n",
       "      <th>2</th>\n",
       "      <td>3</td>\n",
       "      <td>What is the ones digit of \\[222,222-22,222-2,2...</td>\n",
       "      <td>We only care about the unit's digits.\\nThus, $...</td>\n",
       "      <td>2</td>\n",
       "    </tr>\n",
       "    <tr>\n",
       "      <th>3</th>\n",
       "      <td>4</td>\n",
       "      <td>What is the ones digit of \\[222,222-22,222-2,2...</td>\n",
       "      <td>We just take the units digit of each and subtr...</td>\n",
       "      <td>2</td>\n",
       "    </tr>\n",
       "    <tr>\n",
       "      <th>4</th>\n",
       "      <td>5</td>\n",
       "      <td>Four squares of side length $4, 7, 9,$ and $10...</td>\n",
       "      <td>We work inwards. The area of the outer shaded ...</td>\n",
       "      <td>52</td>\n",
       "    </tr>\n",
       "  </tbody>\n",
       "</table>\n",
       "</div>"
      ],
      "text/plain": [
       "   id                                            problem  \\\n",
       "0   1  What is the ones digit of \\[222,222-22,222-2,2...   \n",
       "1   2  What is the ones digit of \\[222,222-22,222-2,2...   \n",
       "2   3  What is the ones digit of \\[222,222-22,222-2,2...   \n",
       "3   4  What is the ones digit of \\[222,222-22,222-2,2...   \n",
       "4   5  Four squares of side length $4, 7, 9,$ and $10...   \n",
       "\n",
       "                                            solution  answer  \n",
       "0  We can rewrite the expression as \\[222,222-(22...       2  \n",
       "1  222,222-22,222 = 200,000\\n200,000 - 2,222 = 19...       2  \n",
       "2  We only care about the unit's digits.\\nThus, $...       2  \n",
       "3  We just take the units digit of each and subtr...       2  \n",
       "4  We work inwards. The area of the outer shaded ...      52  "
      ]
     },
     "execution_count": 12,
     "metadata": {},
     "output_type": "execute_result"
    }
   ],
   "source": [
    "#clean this\n",
    "amio_24_data = pd.read_csv('/kaggle/input/aimo-24-processor-art-of-problem-solving/problems.csv')\n",
    "#View all the different values of the only the links \n",
    "#take out unneeded data after each cell run \n",
    "# List of patterns to remove rows for\n",
    "patterns_to_remove = ['AHSME', 'AJHSME', 'USOMO', 'USAMO', 'USAJMO', 'USOJMO']\n",
    "\n",
    "# Create a boolean mask where True indicates that a row should be deleted\n",
    "mask = amio_24_data['link'].str.contains('|'.join(patterns_to_remove))\n",
    "\n",
    "# Invert the mask to keep rows that do not contain any of the patterns\n",
    "amio_24_data = amio_24_data[~mask]\n",
    "\n",
    "# Now, 'amio_24_data' contains only the rows where 'link' doesn't include the specified patterns\n",
    "unique_links = amio_24_data['link'].unique()\n",
    "print(unique_links)\n",
    "#Fix structure of columns\n",
    "#rm link, no\n",
    "amio_24_data = amio_24_data.drop(['link', 'no'], axis=1)\n",
    "#drop na\n",
    "amio_24_data.dropna()\n",
    "#View\n",
    "amio_24_data.head()\n"
   ]
  },
  {
   "cell_type": "code",
   "execution_count": 13,
   "id": "7ccc9659",
   "metadata": {
    "execution": {
     "iopub.execute_input": "2024-05-12T15:10:30.442762Z",
     "iopub.status.busy": "2024-05-12T15:10:30.441965Z",
     "iopub.status.idle": "2024-05-12T15:10:30.749675Z",
     "shell.execute_reply": "2024-05-12T15:10:30.748634Z"
    },
    "papermill": {
     "duration": 0.321552,
     "end_time": "2024-05-12T15:10:30.751935",
     "exception": false,
     "start_time": "2024-05-12T15:10:30.430383",
     "status": "completed"
    },
    "tags": []
   },
   "outputs": [
    {
     "name": "stdout",
     "output_type": "stream",
     "text": [
      "['https://artofproblemsolving.com/wiki/index.php/2024_AMC_8_Problems/Problem_1'\n",
      " 'https://artofproblemsolving.com/wiki/index.php/2024_AMC_8_Problems/Problem_2'\n",
      " 'https://artofproblemsolving.com/wiki/index.php/2024_AMC_8_Problems/Problem_3'\n",
      " ...\n",
      " 'https://artofproblemsolving.com/wiki/index.php/1983_AIME_Problems/Problem_13'\n",
      " 'https://artofproblemsolving.com/wiki/index.php/1983_AIME_Problems/Problem_14'\n",
      " 'https://artofproblemsolving.com/wiki/index.php/1983_AIME_Problems/Problem_15']\n"
     ]
    },
    {
     "data": {
      "text/html": [
       "<div>\n",
       "<style scoped>\n",
       "    .dataframe tbody tr th:only-of-type {\n",
       "        vertical-align: middle;\n",
       "    }\n",
       "\n",
       "    .dataframe tbody tr th {\n",
       "        vertical-align: top;\n",
       "    }\n",
       "\n",
       "    .dataframe thead th {\n",
       "        text-align: right;\n",
       "    }\n",
       "</style>\n",
       "<table border=\"1\" class=\"dataframe\">\n",
       "  <thead>\n",
       "    <tr style=\"text-align: right;\">\n",
       "      <th></th>\n",
       "      <th>id</th>\n",
       "      <th>problem</th>\n",
       "      <th>solution</th>\n",
       "      <th>answer</th>\n",
       "    </tr>\n",
       "  </thead>\n",
       "  <tbody>\n",
       "    <tr>\n",
       "      <th>0</th>\n",
       "      <td>4ba30954e5f3ca72748b3e145f45b705</td>\n",
       "      <td>What is the ones digit of \\[222,222-22,222-2,2...</td>\n",
       "      <td>We can rewrite the expression as \\[222,222-(22...</td>\n",
       "      <td>2</td>\n",
       "    </tr>\n",
       "    <tr>\n",
       "      <th>1</th>\n",
       "      <td>4ba30954e5f3ca72748b3e145f45b705</td>\n",
       "      <td>What is the ones digit of \\[222,222-22,222-2,2...</td>\n",
       "      <td>222,222-22,222 = 200,000\\n200,000 - 2,222 = 19...</td>\n",
       "      <td>2</td>\n",
       "    </tr>\n",
       "    <tr>\n",
       "      <th>2</th>\n",
       "      <td>4ba30954e5f3ca72748b3e145f45b705</td>\n",
       "      <td>What is the ones digit of \\[222,222-22,222-2,2...</td>\n",
       "      <td>We only care about the unit's digits.\\nThus, $...</td>\n",
       "      <td>2</td>\n",
       "    </tr>\n",
       "    <tr>\n",
       "      <th>3</th>\n",
       "      <td>4ba30954e5f3ca72748b3e145f45b705</td>\n",
       "      <td>What is the ones digit of \\[222,222-22,222-2,2...</td>\n",
       "      <td>We just take the units digit of each and subtr...</td>\n",
       "      <td>2</td>\n",
       "    </tr>\n",
       "    <tr>\n",
       "      <th>4</th>\n",
       "      <td>085955dda8dfb374689b3f216b54d785</td>\n",
       "      <td>What is the value of this expression in decima...</td>\n",
       "      <td>We see that $\\frac{44}{11}$ is $4$ $\\frac{110}...</td>\n",
       "      <td>6.54</td>\n",
       "    </tr>\n",
       "  </tbody>\n",
       "</table>\n",
       "</div>"
      ],
      "text/plain": [
       "                                 id  \\\n",
       "0  4ba30954e5f3ca72748b3e145f45b705   \n",
       "1  4ba30954e5f3ca72748b3e145f45b705   \n",
       "2  4ba30954e5f3ca72748b3e145f45b705   \n",
       "3  4ba30954e5f3ca72748b3e145f45b705   \n",
       "4  085955dda8dfb374689b3f216b54d785   \n",
       "\n",
       "                                             problem  \\\n",
       "0  What is the ones digit of \\[222,222-22,222-2,2...   \n",
       "1  What is the ones digit of \\[222,222-22,222-2,2...   \n",
       "2  What is the ones digit of \\[222,222-22,222-2,2...   \n",
       "3  What is the ones digit of \\[222,222-22,222-2,2...   \n",
       "4  What is the value of this expression in decima...   \n",
       "\n",
       "                                            solution answer  \n",
       "0  We can rewrite the expression as \\[222,222-(22...      2  \n",
       "1  222,222-22,222 = 200,000\\n200,000 - 2,222 = 19...      2  \n",
       "2  We only care about the unit's digits.\\nThus, $...      2  \n",
       "3  We just take the units digit of each and subtr...      2  \n",
       "4  We see that $\\frac{44}{11}$ is $4$ $\\frac{110}...   6.54  "
      ]
     },
     "execution_count": 13,
     "metadata": {},
     "output_type": "execute_result"
    }
   ],
   "source": [
    "# clean this\n",
    "amio_data = pd.read_csv('/kaggle/input/amio-parsed-art-of-problem-solving-website/parsed_ArtOfProblemSolving.csv')\n",
    "amio_data.head()\n",
    "\n",
    "patt_to_remove = ['AHSME', 'AJHSME', 'USOMO', 'USAMO', 'USAJMO', 'USOJMO']\n",
    "\n",
    "# Create a boolean mask where True indicates that a row should be deleted\n",
    "mask = amio_data['link'].str.contains('|'.join(patt_to_remove))\n",
    "\n",
    "# Invert the mask to keep rows that do not contain any of the patterns\n",
    "amio_data = amio_data[~mask]\n",
    "\n",
    "# Now, 'amio_24_data' contains only the rows where 'link' doesn't include the specified patterns\n",
    "unique_links = amio_data['link'].unique()\n",
    "print(unique_links)\n",
    "#Fix structure of columns\n",
    "#rm link, letter\n",
    "amio_data = amio_data.drop(['link', 'letter'], axis=1)\n",
    "#change problem_id to id\n",
    "amio_data.rename(columns={'problem_id': 'id'}, inplace=True)\n",
    "#drop na\n",
    "amio_data.dropna()\n",
    "#View\n",
    "amio_data.head()"
   ]
  },
  {
   "cell_type": "code",
   "execution_count": 14,
   "id": "256461e2",
   "metadata": {
    "execution": {
     "iopub.execute_input": "2024-05-12T15:10:30.776614Z",
     "iopub.status.busy": "2024-05-12T15:10:30.775869Z",
     "iopub.status.idle": "2024-05-12T15:10:30.818708Z",
     "shell.execute_reply": "2024-05-12T15:10:30.817580Z"
    },
    "papermill": {
     "duration": 0.057364,
     "end_time": "2024-05-12T15:10:30.820958",
     "exception": false,
     "start_time": "2024-05-12T15:10:30.763594",
     "status": "completed"
    },
    "tags": []
   },
   "outputs": [
    {
     "name": "stdout",
     "output_type": "stream",
     "text": [
      "Length beofre cleaning: 15143\n",
      "Length after cleaning: 3434\n",
      "Length of those with a 'solution' value: 2656\n",
      "Length of those with no 'solution' value: 778\n"
     ]
    }
   ],
   "source": [
    "combined_data = pd.concat([olympiad_data, aime_data, amio_data, amio_24_data], ignore_index=True)\n",
    "print(f'Length beofre cleaning: {len(combined_data)}')\n",
    "# Prioritize the rows that have 'solution' filled out \n",
    "combined_data_sorted = combined_data.sort_values(by='solution', ascending=False, na_position='last')\n",
    "# Drop duplicates\n",
    "df = combined_data_sorted.drop_duplicates(subset=['problem'], keep='first')\n",
    "print(f'Length after cleaning: {len(df)}')\n",
    "\n",
    "# Boolean indexing to filter rows where 'solution' column is not empty\n",
    "non_empty_solution_rows = df[df['solution'].notnull()]\n",
    "print(f\"Length of those with a 'solution' value: {len(non_empty_solution_rows)}\")\n",
    "\n",
    "# Boolean indexing to filter rows where 'solution' column is empty\n",
    "empty_solution_rows = df[df['solution'].isnull()]\n",
    "\n",
    "# Display the length after cleaning\n",
    "print(f\"Length of those with no 'solution' value: {len(empty_solution_rows)}\")\n",
    "\n",
    "# Now 'empty_solution_rows' contains only rows where 'solution' column is empty\n"
   ]
  },
  {
   "cell_type": "code",
   "execution_count": 15,
   "id": "ae5c2ecd",
   "metadata": {
    "execution": {
     "iopub.execute_input": "2024-05-12T15:10:30.845147Z",
     "iopub.status.busy": "2024-05-12T15:10:30.844736Z",
     "iopub.status.idle": "2024-05-12T15:10:30.855401Z",
     "shell.execute_reply": "2024-05-12T15:10:30.854497Z"
    },
    "papermill": {
     "duration": 0.025186,
     "end_time": "2024-05-12T15:10:30.857474",
     "exception": false,
     "start_time": "2024-05-12T15:10:30.832288",
     "status": "completed"
    },
    "tags": []
   },
   "outputs": [
    {
     "data": {
      "text/html": [
       "<div>\n",
       "<style scoped>\n",
       "    .dataframe tbody tr th:only-of-type {\n",
       "        vertical-align: middle;\n",
       "    }\n",
       "\n",
       "    .dataframe tbody tr th {\n",
       "        vertical-align: top;\n",
       "    }\n",
       "\n",
       "    .dataframe thead th {\n",
       "        text-align: right;\n",
       "    }\n",
       "</style>\n",
       "<table border=\"1\" class=\"dataframe\">\n",
       "  <thead>\n",
       "    <tr style=\"text-align: right;\">\n",
       "      <th></th>\n",
       "      <th>id</th>\n",
       "      <th>problem</th>\n",
       "      <th>answer</th>\n",
       "      <th>solution</th>\n",
       "    </tr>\n",
       "  </thead>\n",
       "  <tbody>\n",
       "    <tr>\n",
       "      <th>2439</th>\n",
       "      <td>ac275ec395b0170ff677d97a713b0cbf</td>\n",
       "      <td>A frog sitting at the point $(1, 2)$ begins a ...</td>\n",
       "      <td>58</td>\n",
       "      <td>this is basically another version of solution ...</td>\n",
       "    </tr>\n",
       "    <tr>\n",
       "      <th>13457</th>\n",
       "      <td>5458</td>\n",
       "      <td>There are real numbers $a, b, c,$ and $d$ such...</td>\n",
       "      <td>330</td>\n",
       "      <td>start off by applying vieta's and you will fin...</td>\n",
       "    </tr>\n",
       "    <tr>\n",
       "      <th>8494</th>\n",
       "      <td>4ff7758eeea95adc1120449999fce657</td>\n",
       "      <td>Find $ax^5 + by^5$ if the real numbers $a,b,x,...</td>\n",
       "      <td>020</td>\n",
       "      <td>recurrence of the form $T_n=AT_{n-1}+BT_{n-2}$...</td>\n",
       "    </tr>\n",
       "    <tr>\n",
       "      <th>11260</th>\n",
       "      <td>3261</td>\n",
       "      <td>There are two values of $a$ for which the equa...</td>\n",
       "      <td>16</td>\n",
       "      <td>quadratic equation has exactly one root if and...</td>\n",
       "    </tr>\n",
       "    <tr>\n",
       "      <th>13944</th>\n",
       "      <td>5945</td>\n",
       "      <td>The positive integers $N$ and $N^2$ both end i...</td>\n",
       "      <td>937</td>\n",
       "      <td>let $N= 10000t+1000a+100b+10c+d$ for positive ...</td>\n",
       "    </tr>\n",
       "  </tbody>\n",
       "</table>\n",
       "</div>"
      ],
      "text/plain": [
       "                                     id  \\\n",
       "2439   ac275ec395b0170ff677d97a713b0cbf   \n",
       "13457                              5458   \n",
       "8494   4ff7758eeea95adc1120449999fce657   \n",
       "11260                              3261   \n",
       "13944                              5945   \n",
       "\n",
       "                                                 problem answer  \\\n",
       "2439   A frog sitting at the point $(1, 2)$ begins a ...     58   \n",
       "13457  There are real numbers $a, b, c,$ and $d$ such...    330   \n",
       "8494   Find $ax^5 + by^5$ if the real numbers $a,b,x,...    020   \n",
       "11260  There are two values of $a$ for which the equa...     16   \n",
       "13944  The positive integers $N$ and $N^2$ both end i...    937   \n",
       "\n",
       "                                                solution  \n",
       "2439   this is basically another version of solution ...  \n",
       "13457  start off by applying vieta's and you will fin...  \n",
       "8494   recurrence of the form $T_n=AT_{n-1}+BT_{n-2}$...  \n",
       "11260  quadratic equation has exactly one root if and...  \n",
       "13944  let $N= 10000t+1000a+100b+10c+d$ for positive ...  "
      ]
     },
     "execution_count": 15,
     "metadata": {},
     "output_type": "execute_result"
    }
   ],
   "source": [
    "df.head()"
   ]
  },
  {
   "cell_type": "code",
   "execution_count": 16,
   "id": "fce5c9df",
   "metadata": {
    "execution": {
     "iopub.execute_input": "2024-05-12T15:10:30.882361Z",
     "iopub.status.busy": "2024-05-12T15:10:30.881775Z",
     "iopub.status.idle": "2024-05-12T15:10:30.892647Z",
     "shell.execute_reply": "2024-05-12T15:10:30.891748Z"
    },
    "papermill": {
     "duration": 0.025658,
     "end_time": "2024-05-12T15:10:30.894709",
     "exception": false,
     "start_time": "2024-05-12T15:10:30.869051",
     "status": "completed"
    },
    "tags": []
   },
   "outputs": [
    {
     "data": {
      "text/html": [
       "<div>\n",
       "<style scoped>\n",
       "    .dataframe tbody tr th:only-of-type {\n",
       "        vertical-align: middle;\n",
       "    }\n",
       "\n",
       "    .dataframe tbody tr th {\n",
       "        vertical-align: top;\n",
       "    }\n",
       "\n",
       "    .dataframe thead th {\n",
       "        text-align: right;\n",
       "    }\n",
       "</style>\n",
       "<table border=\"1\" class=\"dataframe\">\n",
       "  <thead>\n",
       "    <tr style=\"text-align: right;\">\n",
       "      <th></th>\n",
       "      <th>id</th>\n",
       "      <th>problem</th>\n",
       "      <th>answer</th>\n",
       "      <th>solution</th>\n",
       "    </tr>\n",
       "  </thead>\n",
       "  <tbody>\n",
       "    <tr>\n",
       "      <th>0</th>\n",
       "      <td>229ee8</td>\n",
       "      <td>Let $k, l &gt; 0$ be parameters. The parabola $y ...</td>\n",
       "      <td>52.0</td>\n",
       "      <td>NaN</td>\n",
       "    </tr>\n",
       "    <tr>\n",
       "      <th>1</th>\n",
       "      <td>246d26</td>\n",
       "      <td>Each of the three-digits numbers $111$ to $999...</td>\n",
       "      <td>250.0</td>\n",
       "      <td>NaN</td>\n",
       "    </tr>\n",
       "    <tr>\n",
       "      <th>2</th>\n",
       "      <td>2fc4ad</td>\n",
       "      <td>Let the `sparkle' operation on positive intege...</td>\n",
       "      <td>702.0</td>\n",
       "      <td>NaN</td>\n",
       "    </tr>\n",
       "    <tr>\n",
       "      <th>3</th>\n",
       "      <td>430b63</td>\n",
       "      <td>What is the minimum value of $5x^2+5y^2-8xy$ w...</td>\n",
       "      <td>800.0</td>\n",
       "      <td>NaN</td>\n",
       "    </tr>\n",
       "    <tr>\n",
       "      <th>4</th>\n",
       "      <td>5277ed</td>\n",
       "      <td>There exists a unique increasing geometric seq...</td>\n",
       "      <td>211.0</td>\n",
       "      <td>NaN</td>\n",
       "    </tr>\n",
       "  </tbody>\n",
       "</table>\n",
       "</div>"
      ],
      "text/plain": [
       "       id                                            problem answer solution\n",
       "0  229ee8  Let $k, l > 0$ be parameters. The parabola $y ...   52.0      NaN\n",
       "1  246d26  Each of the three-digits numbers $111$ to $999...  250.0      NaN\n",
       "2  2fc4ad  Let the `sparkle' operation on positive intege...  702.0      NaN\n",
       "3  430b63  What is the minimum value of $5x^2+5y^2-8xy$ w...  800.0      NaN\n",
       "4  5277ed  There exists a unique increasing geometric seq...  211.0      NaN"
      ]
     },
     "execution_count": 16,
     "metadata": {},
     "output_type": "execute_result"
    }
   ],
   "source": [
    "empty_solution_rows.head()"
   ]
  },
  {
   "cell_type": "code",
   "execution_count": 17,
   "id": "2d76a2b6",
   "metadata": {
    "execution": {
     "iopub.execute_input": "2024-05-12T15:10:30.920295Z",
     "iopub.status.busy": "2024-05-12T15:10:30.919735Z",
     "iopub.status.idle": "2024-05-12T15:10:30.938543Z",
     "shell.execute_reply": "2024-05-12T15:10:30.937673Z"
    },
    "papermill": {
     "duration": 0.032983,
     "end_time": "2024-05-12T15:10:30.940522",
     "exception": false,
     "start_time": "2024-05-12T15:10:30.907539",
     "status": "completed"
    },
    "tags": []
   },
   "outputs": [],
   "source": [
    "#If you want to save data\n",
    "empty_solution_rows.to_csv(\"empty_solution_rows.csv\")"
   ]
  },
  {
   "cell_type": "code",
   "execution_count": 18,
   "id": "aab58741",
   "metadata": {
    "execution": {
     "iopub.execute_input": "2024-05-12T15:10:30.965120Z",
     "iopub.status.busy": "2024-05-12T15:10:30.964529Z",
     "iopub.status.idle": "2024-05-12T15:10:30.996442Z",
     "shell.execute_reply": "2024-05-12T15:10:30.995535Z"
    },
    "papermill": {
     "duration": 0.04674,
     "end_time": "2024-05-12T15:10:30.998766",
     "exception": false,
     "start_time": "2024-05-12T15:10:30.952026",
     "status": "completed"
    },
    "tags": []
   },
   "outputs": [
    {
     "name": "stderr",
     "output_type": "stream",
     "text": [
      "/tmp/ipykernel_23/4111736374.py:17: SettingWithCopyWarning: \n",
      "A value is trying to be set on a copy of a slice from a DataFrame\n",
      "\n",
      "See the caveats in the documentation: https://pandas.pydata.org/pandas-docs/stable/user_guide/indexing.html#returning-a-view-versus-a-copy\n",
      "  below_threshold.drop(columns=['solution_word_count'], inplace=True)\n",
      "/tmp/ipykernel_23/4111736374.py:18: SettingWithCopyWarning: \n",
      "A value is trying to be set on a copy of a slice from a DataFrame\n",
      "\n",
      "See the caveats in the documentation: https://pandas.pydata.org/pandas-docs/stable/user_guide/indexing.html#returning-a-view-versus-a-copy\n",
      "  above_or_equal_threshold.drop(columns=['solution_word_count'], inplace=True)\n"
     ]
    }
   ],
   "source": [
    "below_700_words, above_or_equal_700_words = split_solution_by_word_count(non_empty_solution_rows)"
   ]
  },
  {
   "cell_type": "code",
   "execution_count": 19,
   "id": "086e0e17",
   "metadata": {
    "execution": {
     "iopub.execute_input": "2024-05-12T15:10:31.025412Z",
     "iopub.status.busy": "2024-05-12T15:10:31.025124Z",
     "iopub.status.idle": "2024-05-12T15:10:31.031257Z",
     "shell.execute_reply": "2024-05-12T15:10:31.030329Z"
    },
    "papermill": {
     "duration": 0.021913,
     "end_time": "2024-05-12T15:10:31.033555",
     "exception": false,
     "start_time": "2024-05-12T15:10:31.011642",
     "status": "completed"
    },
    "tags": []
   },
   "outputs": [
    {
     "name": "stdout",
     "output_type": "stream",
     "text": [
      "Rows in below_700_words (solutions < 700 words): 2650\n",
      "Rows in above_or_equal_700_words (solutions >= 700 words): 6\n",
      "Words in first row of below_700_words' solution: 352\n",
      "Words in first row of above_or_equal_700_words' solution: 847\n"
     ]
    }
   ],
   "source": [
    "print(\"Rows in below_700_words (solutions < 700 words):\", len(below_700_words))\n",
    "print(\"Rows in above_or_equal_700_words (solutions >= 700 words):\", len(above_or_equal_700_words))\n",
    "\n",
    "print(\"Words in first row of below_700_words' solution:\", len(below_700_words.iloc[0]['solution'].split()))\n",
    "print(\"Words in first row of above_or_equal_700_words' solution:\", len(above_or_equal_700_words.iloc[0]['solution'].split()))"
   ]
  },
  {
   "cell_type": "markdown",
   "id": "0e0587f0",
   "metadata": {
    "papermill": {
     "duration": 0.011542,
     "end_time": "2024-05-12T15:10:31.056883",
     "exception": false,
     "start_time": "2024-05-12T15:10:31.045341",
     "status": "completed"
    },
    "tags": []
   },
   "source": [
    "# MATH and the other datasets "
   ]
  },
  {
   "cell_type": "code",
   "execution_count": 20,
   "id": "fa174fea",
   "metadata": {
    "execution": {
     "iopub.execute_input": "2024-05-12T15:10:31.082018Z",
     "iopub.status.busy": "2024-05-12T15:10:31.081256Z",
     "iopub.status.idle": "2024-05-12T15:10:31.088618Z",
     "shell.execute_reply": "2024-05-12T15:10:31.087888Z"
    },
    "papermill": {
     "duration": 0.022043,
     "end_time": "2024-05-12T15:10:31.090627",
     "exception": false,
     "start_time": "2024-05-12T15:10:31.068584",
     "status": "completed"
    },
    "tags": []
   },
   "outputs": [],
   "source": [
    "# Concatenate the two DataFrames\n",
    "concatenated_df = pd.concat([MATH_below_700_words, below_700_words], ignore_index=True)\n"
   ]
  }
 ],
 "metadata": {
  "kaggle": {
   "accelerator": "gpu",
   "dataSources": [
    {
     "databundleVersionId": 8365361,
     "sourceId": 73231,
     "sourceType": "competition"
    },
    {
     "datasetId": 4281572,
     "sourceId": 7369493,
     "sourceType": "datasetVersion"
    },
    {
     "datasetId": 4720595,
     "sourceId": 8012825,
     "sourceType": "datasetVersion"
    },
    {
     "datasetId": 4728129,
     "sourceId": 8023365,
     "sourceType": "datasetVersion"
    },
    {
     "datasetId": 4777425,
     "sourceId": 8091844,
     "sourceType": "datasetVersion"
    },
    {
     "datasetId": 4798051,
     "sourceId": 8120232,
     "sourceType": "datasetVersion"
    },
    {
     "datasetId": 4717118,
     "sourceId": 8008788,
     "sourceType": "datasetVersion"
    },
    {
     "sourceId": 171586072,
     "sourceType": "kernelVersion"
    },
    {
     "sourceId": 174126983,
     "sourceType": "kernelVersion"
    },
    {
     "modelInstanceId": 3900,
     "sourceId": 5112,
     "sourceType": "modelInstanceVersion"
    },
    {
     "modelInstanceId": 4761,
     "sourceId": 5994,
     "sourceType": "modelInstanceVersion"
    },
    {
     "modelInstanceId": 8318,
     "sourceId": 11382,
     "sourceType": "modelInstanceVersion"
    },
    {
     "modelInstanceId": 8332,
     "sourceId": 11394,
     "sourceType": "modelInstanceVersion"
    }
   ],
   "dockerImageVersionId": 30699,
   "isGpuEnabled": true,
   "isInternetEnabled": true,
   "language": "python",
   "sourceType": "notebook"
  },
  "kernelspec": {
   "display_name": "Python 3",
   "language": "python",
   "name": "python3"
  },
  "language_info": {
   "codemirror_mode": {
    "name": "ipython",
    "version": 3
   },
   "file_extension": ".py",
   "mimetype": "text/x-python",
   "name": "python",
   "nbconvert_exporter": "python",
   "pygments_lexer": "ipython3",
   "version": "3.10.13"
  },
  "papermill": {
   "default_parameters": {},
   "duration": 5.378909,
   "end_time": "2024-05-12T15:10:31.420817",
   "environment_variables": {},
   "exception": null,
   "input_path": "__notebook__.ipynb",
   "output_path": "__notebook__.ipynb",
   "parameters": {},
   "start_time": "2024-05-12T15:10:26.041908",
   "version": "2.5.0"
  },
  "widgets": {
   "application/vnd.jupyter.widget-state+json": {
    "state": {
     "21267b653022419eb6fc3f47aa4db8ed": {
      "model_module": "@jupyter-widgets/controls",
      "model_module_version": "1.5.0",
      "model_name": "HTMLModel",
      "state": {
       "_dom_classes": [],
       "_model_module": "@jupyter-widgets/controls",
       "_model_module_version": "1.5.0",
       "_model_name": "HTMLModel",
       "_view_count": null,
       "_view_module": "@jupyter-widgets/controls",
       "_view_module_version": "1.5.0",
       "_view_name": "HTMLView",
       "description": "",
       "description_tooltip": null,
       "layout": "IPY_MODEL_926e7ccdad6440be85c76931860b744c",
       "placeholder": "​",
       "style": "IPY_MODEL_feef8334edb24f6da22e8bb1d8d80c67",
       "value": "Loading checkpoint shards: 100%"
      }
     },
     "2144e851698b4707ad1c7fc29fe21b03": {
      "model_module": "@jupyter-widgets/base",
      "model_module_version": "1.2.0",
      "model_name": "LayoutModel",
      "state": {
       "_model_module": "@jupyter-widgets/base",
       "_model_module_version": "1.2.0",
       "_model_name": "LayoutModel",
       "_view_count": null,
       "_view_module": "@jupyter-widgets/base",
       "_view_module_version": "1.2.0",
       "_view_name": "LayoutView",
       "align_content": null,
       "align_items": null,
       "align_self": null,
       "border": null,
       "bottom": null,
       "display": null,
       "flex": null,
       "flex_flow": null,
       "grid_area": null,
       "grid_auto_columns": null,
       "grid_auto_flow": null,
       "grid_auto_rows": null,
       "grid_column": null,
       "grid_gap": null,
       "grid_row": null,
       "grid_template_areas": null,
       "grid_template_columns": null,
       "grid_template_rows": null,
       "height": null,
       "justify_content": null,
       "justify_items": null,
       "left": null,
       "margin": null,
       "max_height": null,
       "max_width": null,
       "min_height": null,
       "min_width": null,
       "object_fit": null,
       "object_position": null,
       "order": null,
       "overflow": null,
       "overflow_x": null,
       "overflow_y": null,
       "padding": null,
       "right": null,
       "top": null,
       "visibility": null,
       "width": null
      }
     },
     "3963993becfa487c9ff725f211915e67": {
      "model_module": "@jupyter-widgets/controls",
      "model_module_version": "1.5.0",
      "model_name": "HTMLModel",
      "state": {
       "_dom_classes": [],
       "_model_module": "@jupyter-widgets/controls",
       "_model_module_version": "1.5.0",
       "_model_name": "HTMLModel",
       "_view_count": null,
       "_view_module": "@jupyter-widgets/controls",
       "_view_module_version": "1.5.0",
       "_view_name": "HTMLView",
       "description": "",
       "description_tooltip": null,
       "layout": "IPY_MODEL_f7a725e1b0cc4ad78a62beab5f663065",
       "placeholder": "​",
       "style": "IPY_MODEL_fdb32baaed7145d8a8024b615ef242ca",
       "value": " 19/19 [10:48&lt;00:00, 33.24s/it]"
      }
     },
     "5882b6e860be4a0db012a64fc0704a3f": {
      "model_module": "@jupyter-widgets/controls",
      "model_module_version": "1.5.0",
      "model_name": "HBoxModel",
      "state": {
       "_dom_classes": [],
       "_model_module": "@jupyter-widgets/controls",
       "_model_module_version": "1.5.0",
       "_model_name": "HBoxModel",
       "_view_count": null,
       "_view_module": "@jupyter-widgets/controls",
       "_view_module_version": "1.5.0",
       "_view_name": "HBoxView",
       "box_style": "",
       "children": [
        "IPY_MODEL_21267b653022419eb6fc3f47aa4db8ed",
        "IPY_MODEL_d91eb83d016a4381828192a98f798f9b",
        "IPY_MODEL_3963993becfa487c9ff725f211915e67"
       ],
       "layout": "IPY_MODEL_6a892a5561f742bb9db9f13859c18e90"
      }
     },
     "6a892a5561f742bb9db9f13859c18e90": {
      "model_module": "@jupyter-widgets/base",
      "model_module_version": "1.2.0",
      "model_name": "LayoutModel",
      "state": {
       "_model_module": "@jupyter-widgets/base",
       "_model_module_version": "1.2.0",
       "_model_name": "LayoutModel",
       "_view_count": null,
       "_view_module": "@jupyter-widgets/base",
       "_view_module_version": "1.2.0",
       "_view_name": "LayoutView",
       "align_content": null,
       "align_items": null,
       "align_self": null,
       "border": null,
       "bottom": null,
       "display": null,
       "flex": null,
       "flex_flow": null,
       "grid_area": null,
       "grid_auto_columns": null,
       "grid_auto_flow": null,
       "grid_auto_rows": null,
       "grid_column": null,
       "grid_gap": null,
       "grid_row": null,
       "grid_template_areas": null,
       "grid_template_columns": null,
       "grid_template_rows": null,
       "height": null,
       "justify_content": null,
       "justify_items": null,
       "left": null,
       "margin": null,
       "max_height": null,
       "max_width": null,
       "min_height": null,
       "min_width": null,
       "object_fit": null,
       "object_position": null,
       "order": null,
       "overflow": null,
       "overflow_x": null,
       "overflow_y": null,
       "padding": null,
       "right": null,
       "top": null,
       "visibility": null,
       "width": null
      }
     },
     "926e7ccdad6440be85c76931860b744c": {
      "model_module": "@jupyter-widgets/base",
      "model_module_version": "1.2.0",
      "model_name": "LayoutModel",
      "state": {
       "_model_module": "@jupyter-widgets/base",
       "_model_module_version": "1.2.0",
       "_model_name": "LayoutModel",
       "_view_count": null,
       "_view_module": "@jupyter-widgets/base",
       "_view_module_version": "1.2.0",
       "_view_name": "LayoutView",
       "align_content": null,
       "align_items": null,
       "align_self": null,
       "border": null,
       "bottom": null,
       "display": null,
       "flex": null,
       "flex_flow": null,
       "grid_area": null,
       "grid_auto_columns": null,
       "grid_auto_flow": null,
       "grid_auto_rows": null,
       "grid_column": null,
       "grid_gap": null,
       "grid_row": null,
       "grid_template_areas": null,
       "grid_template_columns": null,
       "grid_template_rows": null,
       "height": null,
       "justify_content": null,
       "justify_items": null,
       "left": null,
       "margin": null,
       "max_height": null,
       "max_width": null,
       "min_height": null,
       "min_width": null,
       "object_fit": null,
       "object_position": null,
       "order": null,
       "overflow": null,
       "overflow_x": null,
       "overflow_y": null,
       "padding": null,
       "right": null,
       "top": null,
       "visibility": null,
       "width": null
      }
     },
     "d91eb83d016a4381828192a98f798f9b": {
      "model_module": "@jupyter-widgets/controls",
      "model_module_version": "1.5.0",
      "model_name": "FloatProgressModel",
      "state": {
       "_dom_classes": [],
       "_model_module": "@jupyter-widgets/controls",
       "_model_module_version": "1.5.0",
       "_model_name": "FloatProgressModel",
       "_view_count": null,
       "_view_module": "@jupyter-widgets/controls",
       "_view_module_version": "1.5.0",
       "_view_name": "ProgressView",
       "bar_style": "success",
       "description": "",
       "description_tooltip": null,
       "layout": "IPY_MODEL_2144e851698b4707ad1c7fc29fe21b03",
       "max": 19,
       "min": 0,
       "orientation": "horizontal",
       "style": "IPY_MODEL_e0693b32889c42b18b9a3844e045d048",
       "value": 19
      }
     },
     "e0693b32889c42b18b9a3844e045d048": {
      "model_module": "@jupyter-widgets/controls",
      "model_module_version": "1.5.0",
      "model_name": "ProgressStyleModel",
      "state": {
       "_model_module": "@jupyter-widgets/controls",
       "_model_module_version": "1.5.0",
       "_model_name": "ProgressStyleModel",
       "_view_count": null,
       "_view_module": "@jupyter-widgets/base",
       "_view_module_version": "1.2.0",
       "_view_name": "StyleView",
       "bar_color": null,
       "description_width": ""
      }
     },
     "f7a725e1b0cc4ad78a62beab5f663065": {
      "model_module": "@jupyter-widgets/base",
      "model_module_version": "1.2.0",
      "model_name": "LayoutModel",
      "state": {
       "_model_module": "@jupyter-widgets/base",
       "_model_module_version": "1.2.0",
       "_model_name": "LayoutModel",
       "_view_count": null,
       "_view_module": "@jupyter-widgets/base",
       "_view_module_version": "1.2.0",
       "_view_name": "LayoutView",
       "align_content": null,
       "align_items": null,
       "align_self": null,
       "border": null,
       "bottom": null,
       "display": null,
       "flex": null,
       "flex_flow": null,
       "grid_area": null,
       "grid_auto_columns": null,
       "grid_auto_flow": null,
       "grid_auto_rows": null,
       "grid_column": null,
       "grid_gap": null,
       "grid_row": null,
       "grid_template_areas": null,
       "grid_template_columns": null,
       "grid_template_rows": null,
       "height": null,
       "justify_content": null,
       "justify_items": null,
       "left": null,
       "margin": null,
       "max_height": null,
       "max_width": null,
       "min_height": null,
       "min_width": null,
       "object_fit": null,
       "object_position": null,
       "order": null,
       "overflow": null,
       "overflow_x": null,
       "overflow_y": null,
       "padding": null,
       "right": null,
       "top": null,
       "visibility": null,
       "width": null
      }
     },
     "fdb32baaed7145d8a8024b615ef242ca": {
      "model_module": "@jupyter-widgets/controls",
      "model_module_version": "1.5.0",
      "model_name": "DescriptionStyleModel",
      "state": {
       "_model_module": "@jupyter-widgets/controls",
       "_model_module_version": "1.5.0",
       "_model_name": "DescriptionStyleModel",
       "_view_count": null,
       "_view_module": "@jupyter-widgets/base",
       "_view_module_version": "1.2.0",
       "_view_name": "StyleView",
       "description_width": ""
      }
     },
     "feef8334edb24f6da22e8bb1d8d80c67": {
      "model_module": "@jupyter-widgets/controls",
      "model_module_version": "1.5.0",
      "model_name": "DescriptionStyleModel",
      "state": {
       "_model_module": "@jupyter-widgets/controls",
       "_model_module_version": "1.5.0",
       "_model_name": "DescriptionStyleModel",
       "_view_count": null,
       "_view_module": "@jupyter-widgets/base",
       "_view_module_version": "1.2.0",
       "_view_name": "StyleView",
       "description_width": ""
      }
     }
    },
    "version_major": 2,
    "version_minor": 0
   }
  }
 },
 "nbformat": 4,
 "nbformat_minor": 5
}
