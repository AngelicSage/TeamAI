{
 "cells": [
  {
   "cell_type": "code",
   "execution_count": 1,
   "id": "e1cbfb37",
   "metadata": {
    "execution": {
     "iopub.execute_input": "2024-04-25T12:35:25.269962Z",
     "iopub.status.busy": "2024-04-25T12:35:25.269225Z",
     "iopub.status.idle": "2024-04-25T12:35:38.924346Z",
     "shell.execute_reply": "2024-04-25T12:35:38.923535Z"
    },
    "papermill": {
     "duration": 13.673145,
     "end_time": "2024-04-25T12:35:38.926912",
     "exception": false,
     "start_time": "2024-04-25T12:35:25.253767",
     "status": "completed"
    },
    "tags": []
   },
   "outputs": [
    {
     "name": "stderr",
     "output_type": "stream",
     "text": [
      "2024-04-25 12:35:28.242896: E external/local_xla/xla/stream_executor/cuda/cuda_dnn.cc:9261] Unable to register cuDNN factory: Attempting to register factory for plugin cuDNN when one has already been registered\n",
      "2024-04-25 12:35:28.242989: E external/local_xla/xla/stream_executor/cuda/cuda_fft.cc:607] Unable to register cuFFT factory: Attempting to register factory for plugin cuFFT when one has already been registered\n",
      "2024-04-25 12:35:28.422252: E external/local_xla/xla/stream_executor/cuda/cuda_blas.cc:1515] Unable to register cuBLAS factory: Attempting to register factory for plugin cuBLAS when one has already been registered\n"
     ]
    }
   ],
   "source": [
    "import os\n",
    "import pandas as pd\n",
    "import tensorflow as tf"
   ]
  },
  {
   "cell_type": "markdown",
   "id": "cf7b10ec",
   "metadata": {
    "id": "7PZ5DYcSAP92",
    "papermill": {
     "duration": 0.013922,
     "end_time": "2024-04-25T12:35:38.955343",
     "exception": false,
     "start_time": "2024-04-25T12:35:38.941421",
     "status": "completed"
    },
    "tags": []
   },
   "source": [
    "# Loading model \n"
   ]
  },
  {
   "cell_type": "code",
   "execution_count": null,
   "id": "bd215eed",
   "metadata": {
    "execution": {
     "iopub.status.busy": "2024-04-25T12:30:20.989124Z",
     "iopub.status.idle": "2024-04-25T12:30:20.989487Z",
     "shell.execute_reply": "2024-04-25T12:30:20.989314Z",
     "shell.execute_reply.started": "2024-04-25T12:30:20.989299Z"
    },
    "papermill": {
     "duration": null,
     "end_time": null,
     "exception": false,
     "start_time": "2024-04-25T12:35:38.969327",
     "status": "running"
    },
    "tags": []
   },
   "outputs": [],
   "source": [
    "!pip install /kaggle/input/acceleratez/accelerate-0.28.0-py3-none-any.whl\n",
    "!pip install /kaggle/input/bitsandbytez/bitsandbytes-0.43.0-py3-none-manylinux_2_24_x86_64.whl"
   ]
  },
  {
   "cell_type": "code",
   "execution_count": null,
   "id": "19aafb68",
   "metadata": {
    "execution": {
     "iopub.status.busy": "2024-04-25T12:30:20.991526Z",
     "iopub.status.idle": "2024-04-25T12:30:20.991919Z",
     "shell.execute_reply": "2024-04-25T12:30:20.991756Z",
     "shell.execute_reply.started": "2024-04-25T12:30:20.991734Z"
    },
    "papermill": {
     "duration": null,
     "end_time": null,
     "exception": null,
     "start_time": null,
     "status": "pending"
    },
    "tags": []
   },
   "outputs": [],
   "source": [
    "import torch"
   ]
  },
  {
   "cell_type": "code",
   "execution_count": null,
   "id": "b28db80b",
   "metadata": {
    "execution": {
     "iopub.execute_input": "2024-04-22T15:35:55.229284Z",
     "iopub.status.busy": "2024-04-22T15:35:55.228930Z",
     "iopub.status.idle": "2024-04-22T15:37:02.686058Z",
     "shell.execute_reply": "2024-04-22T15:37:02.684960Z",
     "shell.execute_reply.started": "2024-04-22T15:35:55.229257Z"
    },
    "papermill": {
     "duration": null,
     "end_time": null,
     "exception": null,
     "start_time": null,
     "status": "pending"
    },
    "tags": []
   },
   "outputs": [],
   "source": [
    "bnb_config = BitsAndBytesConfig(\n",
    "        load_in_4bit=True,\n",
    "        bnb_4bit_quant_type=\"nf4\",\n",
    "        bnb_4bit_compute_dtype=torch.bfloat16,\n",
    "        bnb_4bit_use_double_quant=True,\n",
    ")"
   ]
  },
  {
   "cell_type": "code",
   "execution_count": null,
   "id": "c6e89d77",
   "metadata": {
    "papermill": {
     "duration": null,
     "end_time": null,
     "exception": null,
     "start_time": null,
     "status": "pending"
    },
    "tags": []
   },
   "outputs": [],
   "source": [
    "tokenizer = AutoTokenizer.from_pretrained(\"/kaggle/input/gemma/transformers/7b-it/3\")\n",
    "model = AutoModelForCausalLM.from_pretrained(\"/kaggle/input/gemma/transformers/7b-it/3\", quantization_config=bnb_config)"
   ]
  },
  {
   "cell_type": "markdown",
   "id": "c4f687ae",
   "metadata": {
    "id": "gDHVa44g7P1P",
    "papermill": {
     "duration": null,
     "end_time": null,
     "exception": null,
     "start_time": null,
     "status": "pending"
    },
    "tags": []
   },
   "source": [
    "# Test model"
   ]
  },
  {
   "cell_type": "code",
   "execution_count": null,
   "id": "417409dc",
   "metadata": {
    "execution": {
     "iopub.execute_input": "2024-04-22T15:37:02.688561Z",
     "iopub.status.busy": "2024-04-22T15:37:02.688068Z",
     "iopub.status.idle": "2024-04-22T15:37:25.392677Z",
     "shell.execute_reply": "2024-04-22T15:37:25.391534Z",
     "shell.execute_reply.started": "2024-04-22T15:37:02.688517Z"
    },
    "id": "A3En0jiw7RTl",
    "papermill": {
     "duration": null,
     "end_time": null,
     "exception": null,
     "start_time": null,
     "status": "pending"
    },
    "tags": []
   },
   "outputs": [],
   "source": [
    "input_text = \"Write a poem about a cat.\"\n",
    "input_ids = tokenizer(input_text, return_tensors='pt').to(\"cuda\")\n",
    "\n",
    "res = model.generate(**input_ids, max_length=512)\n",
    "print(tokenizer.decode(res[0]))"
   ]
  },
  {
   "cell_type": "markdown",
   "id": "785c7f33",
   "metadata": {
    "papermill": {
     "duration": null,
     "end_time": null,
     "exception": null,
     "start_time": null,
     "status": "pending"
    },
    "tags": []
   },
   "source": [
    "# Load Datasets\n"
   ]
  },
  {
   "cell_type": "code",
   "execution_count": null,
   "id": "46ab0cd3",
   "metadata": {
    "execution": {
     "iopub.execute_input": "2024-04-22T15:37:25.394262Z",
     "iopub.status.busy": "2024-04-22T15:37:25.393965Z",
     "iopub.status.idle": "2024-04-22T15:37:25.407201Z",
     "shell.execute_reply": "2024-04-22T15:37:25.406095Z",
     "shell.execute_reply.started": "2024-04-22T15:37:25.394235Z"
    },
    "executionInfo": {
     "elapsed": 153,
     "status": "ok",
     "timestamp": 1713454183521,
     "user": {
      "displayName": "Angel Rodriguez",
      "userId": "15879171392352854715"
     },
     "user_tz": 240
    },
    "id": "zNmUCM9uxyjX",
    "outputId": "c589df7f-f59f-4b1d-a9b9-16fc48c3933f",
    "papermill": {
     "duration": null,
     "end_time": null,
     "exception": null,
     "start_time": null,
     "status": "pending"
    },
    "tags": []
   },
   "outputs": [],
   "source": [
    "# https://www.kaggle.com/competitions/ai-mathematical-olympiad-prize/data\n",
    "\n",
    "# Load the training data\n",
    "train_data = pd.read_csv('/kaggle/input/ai-mathematical-olympiad-prize/train.csv')\n",
    "\n",
    "# Load the test data\n",
    "test_data = pd.read_csv('/kaggle/input/ai-mathematical-olympiad-prize/test.csv')\n",
    "\n",
    "# Now you can view the first few rows of each to confirm they're loaded correctly\n",
    "olympiad_data = pd.concat([train_data, test_data], ignore_index=True)\n",
    "\n"
   ]
  },
  {
   "cell_type": "code",
   "execution_count": null,
   "id": "9d96d09b",
   "metadata": {
    "execution": {
     "iopub.execute_input": "2024-04-22T15:37:25.410071Z",
     "iopub.status.busy": "2024-04-22T15:37:25.409737Z",
     "iopub.status.idle": "2024-04-22T15:37:25.423928Z",
     "shell.execute_reply": "2024-04-22T15:37:25.422783Z",
     "shell.execute_reply.started": "2024-04-22T15:37:25.410044Z"
    },
    "papermill": {
     "duration": null,
     "end_time": null,
     "exception": null,
     "start_time": null,
     "status": "pending"
    },
    "tags": []
   },
   "outputs": [],
   "source": [
    "# Clean data\n",
    "olympiad_data.dropna()\n",
    "#View \n",
    "olympiad_data.head()\n"
   ]
  },
  {
   "cell_type": "code",
   "execution_count": null,
   "id": "27a4cbf1",
   "metadata": {
    "execution": {
     "iopub.execute_input": "2024-04-22T15:37:25.425659Z",
     "iopub.status.busy": "2024-04-22T15:37:25.425269Z",
     "iopub.status.idle": "2024-04-22T15:37:26.474850Z",
     "shell.execute_reply": "2024-04-22T15:37:26.473929Z",
     "shell.execute_reply.started": "2024-04-22T15:37:25.425618Z"
    },
    "papermill": {
     "duration": null,
     "end_time": null,
     "exception": null,
     "start_time": null,
     "status": "pending"
    },
    "tags": []
   },
   "outputs": [],
   "source": [
    "#clean this \n",
    "# https://huggingface.co/datasets/hendrycks/competition_math\n",
    "from datasets import load_dataset\n",
    "\n",
    "# Load the Hugging Face dataset\n",
    "MATH_ds = load_dataset(\"hendrycks/competition_math\")\n",
    "train_dataset = MATH_ds['train']\n",
    "test_dataset = MATH_ds['test']\n",
    "\n",
    "# Convert to Pandas DataFrames\n",
    "train_df = train_dataset.to_pandas()\n",
    "test_df = test_dataset.to_pandas()\n",
    "\n",
    "# Concatenate the train and test dataframes\n",
    "MATH_data = pd.concat([train_df, test_df], ignore_index=True)\n",
    "\n"
   ]
  },
  {
   "cell_type": "code",
   "execution_count": null,
   "id": "27cc2b8b",
   "metadata": {
    "execution": {
     "iopub.execute_input": "2024-04-22T15:37:26.476430Z",
     "iopub.status.busy": "2024-04-22T15:37:26.476109Z",
     "iopub.status.idle": "2024-04-22T15:37:26.483714Z",
     "shell.execute_reply": "2024-04-22T15:37:26.482675Z",
     "shell.execute_reply.started": "2024-04-22T15:37:26.476403Z"
    },
    "papermill": {
     "duration": null,
     "end_time": null,
     "exception": null,
     "start_time": null,
     "status": "pending"
    },
    "tags": []
   },
   "outputs": [],
   "source": [
    "unique_links = MATH_data['type'].unique()\n",
    "print(unique_links)\n",
    "for link in unique_links:\n",
    "    print(link)"
   ]
  },
  {
   "cell_type": "code",
   "execution_count": null,
   "id": "7a925688",
   "metadata": {
    "execution": {
     "iopub.execute_input": "2024-04-25T12:30:48.027646Z",
     "iopub.status.busy": "2024-04-25T12:30:48.026980Z",
     "iopub.status.idle": "2024-04-25T12:30:48.064758Z",
     "shell.execute_reply": "2024-04-25T12:30:48.063786Z",
     "shell.execute_reply.started": "2024-04-25T12:30:48.027614Z"
    },
    "papermill": {
     "duration": null,
     "end_time": null,
     "exception": null,
     "start_time": null,
     "status": "pending"
    },
    "tags": []
   },
   "outputs": [],
   "source": [
    "# No need to do regex\n",
    "aime_data = pd.read_csv('/kaggle/input/aime-problem-set-1983-2024/AIME_Dataset_1983_2024.csv')"
   ]
  },
  {
   "cell_type": "code",
   "execution_count": null,
   "id": "833c041b",
   "metadata": {
    "execution": {
     "iopub.execute_input": "2024-04-25T12:30:49.385042Z",
     "iopub.status.busy": "2024-04-25T12:30:49.384195Z",
     "iopub.status.idle": "2024-04-25T12:30:49.418150Z",
     "shell.execute_reply": "2024-04-25T12:30:49.417282Z",
     "shell.execute_reply.started": "2024-04-25T12:30:49.384989Z"
    },
    "papermill": {
     "duration": null,
     "end_time": null,
     "exception": null,
     "start_time": null,
     "status": "pending"
    },
    "tags": []
   },
   "outputs": [],
   "source": [
    "#Fix structure of columns\n",
    "# rm Year, Problem Number, Part\n",
    "aime_data = aime_data.drop(['Year', 'Problem Number', 'Part'], axis=1)\n",
    "aime_data.dropna()\n",
    "#rename Question: question, Answer:answer, ID:id\n",
    "aime_data.rename(columns={'ID': 'id','Question': 'problem', 'Answer': 'answer'}, inplace=True)\n",
    "#View\n",
    "aime_data.head()\n"
   ]
  },
  {
   "cell_type": "code",
   "execution_count": null,
   "id": "d7392852",
   "metadata": {
    "execution": {
     "iopub.execute_input": "2024-04-25T12:30:52.305333Z",
     "iopub.status.busy": "2024-04-25T12:30:52.304140Z",
     "iopub.status.idle": "2024-04-25T12:30:52.495112Z",
     "shell.execute_reply": "2024-04-25T12:30:52.494311Z",
     "shell.execute_reply.started": "2024-04-25T12:30:52.305297Z"
    },
    "papermill": {
     "duration": null,
     "end_time": null,
     "exception": null,
     "start_time": null,
     "status": "pending"
    },
    "tags": []
   },
   "outputs": [],
   "source": [
    "#clean this\n",
    "amio_24_data = pd.read_csv('/kaggle/input/aimo-24-data-art-of-problem-solving/problems.csv')\n"
   ]
  },
  {
   "cell_type": "code",
   "execution_count": null,
   "id": "9754aa41",
   "metadata": {
    "execution": {
     "iopub.execute_input": "2024-04-25T12:32:40.790110Z",
     "iopub.status.busy": "2024-04-25T12:32:40.789475Z",
     "iopub.status.idle": "2024-04-25T12:32:40.806680Z",
     "shell.execute_reply": "2024-04-25T12:32:40.805812Z",
     "shell.execute_reply.started": "2024-04-25T12:32:40.790080Z"
    },
    "papermill": {
     "duration": null,
     "end_time": null,
     "exception": null,
     "start_time": null,
     "status": "pending"
    },
    "tags": []
   },
   "outputs": [],
   "source": [
    "#View all the different values of the only the links \n",
    "#take out unneeded data after each cell run \n",
    "# List of patterns to remove rows for\n",
    "patterns_to_remove = ['AHSME', 'AJHSME', 'USOMO', 'USAMO', 'USAJMO', 'USOJMO', 'AMC_10', 'AMC_8']\n",
    "\n",
    "# Create a boolean mask where True indicates that a row should be deleted\n",
    "mask = amio_24_data['link'].str.contains('|'.join(patterns_to_remove))\n",
    "\n",
    "# Invert the mask to keep rows that do not contain any of the patterns\n",
    "amio_24_data = amio_24_data[~mask]\n",
    "\n",
    "# Now, 'amio_24_data' contains only the rows where 'link' doesn't include the specified patterns\n",
    "unique_links = amio_24_data['link'].unique()"
   ]
  },
  {
   "cell_type": "code",
   "execution_count": null,
   "id": "c4488de2",
   "metadata": {
    "execution": {
     "iopub.execute_input": "2024-04-22T15:37:26.676726Z",
     "iopub.status.busy": "2024-04-22T15:37:26.676223Z",
     "iopub.status.idle": "2024-04-22T15:37:26.693722Z",
     "shell.execute_reply": "2024-04-22T15:37:26.692662Z",
     "shell.execute_reply.started": "2024-04-22T15:37:26.676689Z"
    },
    "papermill": {
     "duration": null,
     "end_time": null,
     "exception": null,
     "start_time": null,
     "status": "pending"
    },
    "tags": []
   },
   "outputs": [],
   "source": [
    "#Fix structure of columns\n",
    "#rm link, no\n",
    "amio_24_data = amio_24_data.drop(['link', 'no'], axis=1)\n",
    "#drop na\n",
    "amio_24_data.dropna()\n",
    "#View\n",
    "amio_24_data.head()\n"
   ]
  },
  {
   "cell_type": "code",
   "execution_count": null,
   "id": "52a71c08",
   "metadata": {
    "execution": {
     "iopub.execute_input": "2024-04-25T12:33:46.686242Z",
     "iopub.status.busy": "2024-04-25T12:33:46.685895Z",
     "iopub.status.idle": "2024-04-25T12:33:46.829903Z",
     "shell.execute_reply": "2024-04-25T12:33:46.828984Z",
     "shell.execute_reply.started": "2024-04-25T12:33:46.686213Z"
    },
    "papermill": {
     "duration": null,
     "end_time": null,
     "exception": null,
     "start_time": null,
     "status": "pending"
    },
    "tags": []
   },
   "outputs": [],
   "source": [
    "# clean this\n",
    "amio_data = pd.read_csv('/kaggle/input/amio-parsed-art-of-problem-solving-website/parsed_ArtOfProblemSolving.csv')\n",
    "amio_data.head()\n",
    "\n",
    "patt_to_remove = ['AHSME', 'AJHSME', 'USOMO', 'USAMO', 'USAJMO', 'USOJMO', 'AMC_10', 'AMC_8']\n",
    "\n",
    "\n",
    "# Create a boolean mask where True indicates that a row should be deleted\n",
    "mask = amio_data['link'].str.contains('|'.join(patt_to_remove))\n",
    "\n",
    "# Invert the mask to keep rows that do not contain any of the patterns\n",
    "amio_data = amio_data[~mask]\n",
    "\n",
    "# Now, 'amio_24_data' contains only the rows where 'link' doesn't include the specified patterns\n",
    "unique_links = amio_data['link'].unique()\n",
    "print(unique_links)"
   ]
  },
  {
   "cell_type": "code",
   "execution_count": null,
   "id": "1559d059",
   "metadata": {
    "execution": {
     "iopub.execute_input": "2024-04-22T15:37:26.860717Z",
     "iopub.status.busy": "2024-04-22T15:37:26.860326Z",
     "iopub.status.idle": "2024-04-22T15:37:26.887917Z",
     "shell.execute_reply": "2024-04-22T15:37:26.884724Z",
     "shell.execute_reply.started": "2024-04-22T15:37:26.860686Z"
    },
    "papermill": {
     "duration": null,
     "end_time": null,
     "exception": null,
     "start_time": null,
     "status": "pending"
    },
    "tags": []
   },
   "outputs": [],
   "source": [
    "#Fix structure of columns\n",
    "#rm link, letter\n",
    "amio_data = amio_data.drop(['link', 'letter'], axis=1)\n",
    "#change problem_id to id\n",
    "amio_data.rename(columns={'problem_id': 'id'}, inplace=True)\n",
    "#drop na\n",
    "amio_data.dropna()\n",
    "#View\n",
    "amio_data.head()"
   ]
  },
  {
   "cell_type": "markdown",
   "id": "1981ab82",
   "metadata": {
    "papermill": {
     "duration": null,
     "end_time": null,
     "exception": null,
     "start_time": null,
     "status": "pending"
    },
    "tags": []
   },
   "source": [
    "# Concatenate datsets "
   ]
  },
  {
   "cell_type": "code",
   "execution_count": null,
   "id": "8555fd87",
   "metadata": {
    "execution": {
     "iopub.execute_input": "2024-04-22T15:37:26.891607Z",
     "iopub.status.busy": "2024-04-22T15:37:26.890729Z",
     "iopub.status.idle": "2024-04-22T15:37:26.901176Z",
     "shell.execute_reply": "2024-04-22T15:37:26.899937Z",
     "shell.execute_reply.started": "2024-04-22T15:37:26.891534Z"
    },
    "papermill": {
     "duration": null,
     "end_time": null,
     "exception": null,
     "start_time": null,
     "status": "pending"
    },
    "tags": []
   },
   "outputs": [],
   "source": [
    "# For troubleshooting\n",
    "# olympiad_data aime_data amio_24_data amio_data\n",
    "print(\"Number of rows in olympiad_data:\", len(olympiad_data))\n",
    "print(\"Number of rows in aime_data:\", len(aime_data))\n",
    "print(\"Number of rows in amio_24_data:\", len(amio_24_data))\n",
    "print(\"Number of rows in amio_data:\", len(amio_data))"
   ]
  },
  {
   "cell_type": "code",
   "execution_count": null,
   "id": "07667e38",
   "metadata": {
    "execution": {
     "iopub.execute_input": "2024-04-22T15:37:26.903082Z",
     "iopub.status.busy": "2024-04-22T15:37:26.902727Z",
     "iopub.status.idle": "2024-04-22T15:37:26.922772Z",
     "shell.execute_reply": "2024-04-22T15:37:26.921535Z",
     "shell.execute_reply.started": "2024-04-22T15:37:26.903052Z"
    },
    "papermill": {
     "duration": null,
     "end_time": null,
     "exception": null,
     "start_time": null,
     "status": "pending"
    },
    "tags": []
   },
   "outputs": [],
   "source": [
    "# All data variables: olympiad_data MATH_data aime_data amio_24_data amio_data\n",
    "# Exlude MATH because can't get specific AIME/AMC10-12\n",
    "data = pd.concat([olympiad_data, aime_data], ignore_index=True)\n",
    "# Isolate analysis of amio_24_data and amio_data due to the solution column\n",
    "solution_data = pd.concat([amio_data, amio_24_data], ignore_index=True)\n",
    "\n",
    "#Drop duplicates\n",
    "#!!!Though, different id's so not sure if the duplicates remove\n",
    "data = data.drop_duplicates(subset=['problem'], keep='first')\n",
    "solution_data = solution_data.drop_duplicates(subset=['problem'], keep='first')\n",
    "\n",
    "print(\"Number of rows in solution_data:\", len(solution_data))\n",
    "print(\"Number of rows in data:\", len(data))\n",
    "\n",
    "# Maybe just concat the datasets\n"
   ]
  },
  {
   "cell_type": "code",
   "execution_count": null,
   "id": "698b5485",
   "metadata": {
    "execution": {
     "iopub.execute_input": "2024-04-22T15:37:26.924697Z",
     "iopub.status.busy": "2024-04-22T15:37:26.924154Z",
     "iopub.status.idle": "2024-04-22T15:37:26.965240Z",
     "shell.execute_reply": "2024-04-22T15:37:26.964007Z",
     "shell.execute_reply.started": "2024-04-22T15:37:26.924666Z"
    },
    "papermill": {
     "duration": null,
     "end_time": null,
     "exception": null,
     "start_time": null,
     "status": "pending"
    },
    "tags": []
   },
   "outputs": [],
   "source": [
    "combined_data = pd.concat([olympiad_data, aime_data, amio_data, amio_24_data], ignore_index=True)\n",
    "print(f'Length beofre cleaning: {len(combined_data)}')\n",
    "# Prioritize the rows that have 'solution' filled out \n",
    "combined_data_sorted = combined_data.sort_values(by='solution', ascending=False, na_position='last')\n",
    "# Drop duplicates\n",
    "df = combined_data_sorted.drop_duplicates(subset=['problem'], keep='first')\n",
    "print(f'Length beofre cleaning{len(df)}')"
   ]
  },
  {
   "cell_type": "code",
   "execution_count": null,
   "id": "a7a260b6",
   "metadata": {
    "execution": {
     "iopub.execute_input": "2024-04-22T15:37:26.966823Z",
     "iopub.status.busy": "2024-04-22T15:37:26.966520Z",
     "iopub.status.idle": "2024-04-22T15:37:26.979793Z",
     "shell.execute_reply": "2024-04-22T15:37:26.978542Z",
     "shell.execute_reply.started": "2024-04-22T15:37:26.966797Z"
    },
    "papermill": {
     "duration": null,
     "end_time": null,
     "exception": null,
     "start_time": null,
     "status": "pending"
    },
    "tags": []
   },
   "outputs": [],
   "source": [
    "df.head()"
   ]
  },
  {
   "cell_type": "markdown",
   "id": "0d9c4c8e",
   "metadata": {
    "papermill": {
     "duration": null,
     "end_time": null,
     "exception": null,
     "start_time": null,
     "status": "pending"
    },
    "tags": []
   },
   "source": [
    "# Preprocessing data"
   ]
  },
  {
   "cell_type": "markdown",
   "id": "2f71b525",
   "metadata": {
    "papermill": {
     "duration": null,
     "end_time": null,
     "exception": null,
     "start_time": null,
     "status": "pending"
    },
    "tags": []
   },
   "source": [
    "# Model Training"
   ]
  },
  {
   "cell_type": "markdown",
   "id": "621dae87",
   "metadata": {
    "papermill": {
     "duration": null,
     "end_time": null,
     "exception": null,
     "start_time": null,
     "status": "pending"
    },
    "tags": []
   },
   "source": [
    "# Final prediction"
   ]
  },
  {
   "cell_type": "code",
   "execution_count": null,
   "id": "a9d17dba",
   "metadata": {
    "execution": {
     "iopub.execute_input": "2024-04-22T15:31:46.135401Z",
     "iopub.status.busy": "2024-04-22T15:31:46.135046Z",
     "iopub.status.idle": "2024-04-22T15:31:46.140518Z",
     "shell.execute_reply": "2024-04-22T15:31:46.139511Z",
     "shell.execute_reply.started": "2024-04-22T15:31:46.135374Z"
    },
    "papermill": {
     "duration": null,
     "end_time": null,
     "exception": null,
     "start_time": null,
     "status": "pending"
    },
    "tags": []
   },
   "outputs": [],
   "source": [
    "print(X.shape)  # This should match the first dimension of Y\n",
    "print(Y.shape)"
   ]
  },
  {
   "cell_type": "code",
   "execution_count": null,
   "id": "4250fdff",
   "metadata": {
    "execution": {
     "iopub.execute_input": "2024-04-22T15:31:59.531537Z",
     "iopub.status.busy": "2024-04-22T15:31:59.531135Z",
     "iopub.status.idle": "2024-04-22T15:31:59.690209Z",
     "shell.execute_reply": "2024-04-22T15:31:59.688422Z",
     "shell.execute_reply.started": "2024-04-22T15:31:59.531504Z"
    },
    "papermill": {
     "duration": null,
     "end_time": null,
     "exception": null,
     "start_time": null,
     "status": "pending"
    },
    "tags": []
   },
   "outputs": [],
   "source": [
    "\n",
    "# Assuming 'model' is your previously trained model\n",
    "predictions = model.predict(X)\n",
    "\n",
    "# If the model outputs probabilities (typical for classification tasks), and you need to convert these to class labels:\n",
    "predictions = np.argmax(predictions, axis=1)  # Use this if your model is a multi-class classifier\n",
    "# predictions = (predictions > 0.5).astype(int)  # Use this for binary classifiers, if predictions are probabilities\n",
    "\n",
    "# Calculate accuracy\n",
    "accuracy = accuracy_score(Y, predictions)\n",
    "print(\"Accuracy:\", accuracy)"
   ]
  },
  {
   "cell_type": "code",
   "execution_count": null,
   "id": "21e7cb29",
   "metadata": {
    "papermill": {
     "duration": null,
     "end_time": null,
     "exception": null,
     "start_time": null,
     "status": "pending"
    },
    "tags": []
   },
   "outputs": [],
   "source": [
    "# Save the submission file\n",
    "predictions.to_csv('submission.csv', index=False)\n"
   ]
  }
 ],
 "metadata": {
  "colab": {
   "authorship_tag": "ABX9TyPKTb1Te3pGUiZ6A7LmQ9rj",
   "provenance": []
  },
  "kaggle": {
   "accelerator": "nvidiaTeslaT4",
   "dataSources": [
    {
     "databundleVersionId": 8133715,
     "sourceId": 73231,
     "sourceType": "competition"
    },
    {
     "datasetId": 4777425,
     "sourceId": 8091844,
     "sourceType": "datasetVersion"
    },
    {
     "datasetId": 4779706,
     "sourceId": 8095292,
     "sourceType": "datasetVersion"
    },
    {
     "datasetId": 4798051,
     "sourceId": 8120232,
     "sourceType": "datasetVersion"
    },
    {
     "modelInstanceId": 5171,
     "sourceId": 11371,
     "sourceType": "modelInstanceVersion"
    },
    {
     "modelInstanceId": 6216,
     "sourceId": 11384,
     "sourceType": "modelInstanceVersion"
    },
    {
     "modelInstanceId": 8332,
     "sourceId": 28808,
     "sourceType": "modelInstanceVersion"
    }
   ],
   "dockerImageVersionId": 30698,
   "isGpuEnabled": true,
   "isInternetEnabled": true,
   "language": "python",
   "sourceType": "notebook"
  },
  "kernelspec": {
   "display_name": "Python 3",
   "language": "python",
   "name": "python3"
  },
  "language_info": {
   "codemirror_mode": {
    "name": "ipython",
    "version": 3
   },
   "file_extension": ".py",
   "mimetype": "text/x-python",
   "name": "python",
   "nbconvert_exporter": "python",
   "pygments_lexer": "ipython3",
   "version": "3.10.13"
  },
  "papermill": {
   "default_parameters": {},
   "duration": null,
   "end_time": null,
   "environment_variables": {},
   "exception": null,
   "input_path": "__notebook__.ipynb",
   "output_path": "__notebook__.ipynb",
   "parameters": {},
   "start_time": "2024-04-25T12:35:22.318715",
   "version": "2.5.0"
  },
  "widgets": {
   "application/vnd.jupyter.widget-state+json": {
    "084201ca786542d38a337505024ca1bf": {
     "model_module": "@jupyter-widgets/controls",
     "model_module_version": "1.5.0",
     "model_name": "LabelModel",
     "state": {
      "_dom_classes": [],
      "_model_module": "@jupyter-widgets/controls",
      "_model_module_version": "1.5.0",
      "_model_name": "LabelModel",
      "_view_count": null,
      "_view_module": "@jupyter-widgets/controls",
      "_view_module_version": "1.5.0",
      "_view_name": "LabelView",
      "description": "",
      "description_tooltip": null,
      "layout": "IPY_MODEL_deb425fd4ac747c2a70f3f6602f2f596",
      "placeholder": "​",
      "style": "IPY_MODEL_2e2b4905057f49edad0d938c2ef7a1c1",
      "value": "Your token has been saved to /root/.cache/huggingface/token"
     }
    },
    "0d03c7e732ca44209ffd475fe00e6b39": {
     "model_module": "@jupyter-widgets/base",
     "model_module_version": "1.2.0",
     "model_name": "LayoutModel",
     "state": {
      "_model_module": "@jupyter-widgets/base",
      "_model_module_version": "1.2.0",
      "_model_name": "LayoutModel",
      "_view_count": null,
      "_view_module": "@jupyter-widgets/base",
      "_view_module_version": "1.2.0",
      "_view_name": "LayoutView",
      "align_content": null,
      "align_items": null,
      "align_self": null,
      "border": null,
      "bottom": null,
      "display": null,
      "flex": null,
      "flex_flow": null,
      "grid_area": null,
      "grid_auto_columns": null,
      "grid_auto_flow": null,
      "grid_auto_rows": null,
      "grid_column": null,
      "grid_gap": null,
      "grid_row": null,
      "grid_template_areas": null,
      "grid_template_columns": null,
      "grid_template_rows": null,
      "height": null,
      "justify_content": null,
      "justify_items": null,
      "left": null,
      "margin": null,
      "max_height": null,
      "max_width": null,
      "min_height": null,
      "min_width": null,
      "object_fit": null,
      "object_position": null,
      "order": null,
      "overflow": null,
      "overflow_x": null,
      "overflow_y": null,
      "padding": null,
      "right": null,
      "top": null,
      "visibility": null,
      "width": null
     }
    },
    "0d39cac34d8244c5bdb01d8c5c84aa06": {
     "model_module": "@jupyter-widgets/controls",
     "model_module_version": "1.5.0",
     "model_name": "ButtonStyleModel",
     "state": {
      "_model_module": "@jupyter-widgets/controls",
      "_model_module_version": "1.5.0",
      "_model_name": "ButtonStyleModel",
      "_view_count": null,
      "_view_module": "@jupyter-widgets/base",
      "_view_module_version": "1.2.0",
      "_view_name": "StyleView",
      "button_color": null,
      "font_weight": ""
     }
    },
    "0f30d8852c5744afa5047442e5459706": {
     "model_module": "@jupyter-widgets/controls",
     "model_module_version": "1.5.0",
     "model_name": "CheckboxModel",
     "state": {
      "_dom_classes": [],
      "_model_module": "@jupyter-widgets/controls",
      "_model_module_version": "1.5.0",
      "_model_name": "CheckboxModel",
      "_view_count": null,
      "_view_module": "@jupyter-widgets/controls",
      "_view_module_version": "1.5.0",
      "_view_name": "CheckboxView",
      "description": "Add token as git credential?",
      "description_tooltip": null,
      "disabled": false,
      "indent": true,
      "layout": "IPY_MODEL_0d03c7e732ca44209ffd475fe00e6b39",
      "style": "IPY_MODEL_c29af07601f24a6084a15e5734162c62",
      "value": true
     }
    },
    "1ba5c78ddbd34c0883a189c43de780b5": {
     "model_module": "@jupyter-widgets/controls",
     "model_module_version": "1.5.0",
     "model_name": "LabelModel",
     "state": {
      "_dom_classes": [],
      "_model_module": "@jupyter-widgets/controls",
      "_model_module_version": "1.5.0",
      "_model_name": "LabelModel",
      "_view_count": null,
      "_view_module": "@jupyter-widgets/controls",
      "_view_module_version": "1.5.0",
      "_view_name": "LabelView",
      "description": "",
      "description_tooltip": null,
      "layout": "IPY_MODEL_d6b12c87b4454a3284457093ef4afe97",
      "placeholder": "​",
      "style": "IPY_MODEL_ddea72b1ec9a4190bdf867e98b0a31b3",
      "value": "Token is valid (permission: read)."
     }
    },
    "1cded3b11c9243a1a4bf45da01c52400": {
     "model_module": "@jupyter-widgets/controls",
     "model_module_version": "1.5.0",
     "model_name": "DescriptionStyleModel",
     "state": {
      "_model_module": "@jupyter-widgets/controls",
      "_model_module_version": "1.5.0",
      "_model_name": "DescriptionStyleModel",
      "_view_count": null,
      "_view_module": "@jupyter-widgets/base",
      "_view_module_version": "1.2.0",
      "_view_name": "StyleView",
      "description_width": ""
     }
    },
    "2e2b4905057f49edad0d938c2ef7a1c1": {
     "model_module": "@jupyter-widgets/controls",
     "model_module_version": "1.5.0",
     "model_name": "DescriptionStyleModel",
     "state": {
      "_model_module": "@jupyter-widgets/controls",
      "_model_module_version": "1.5.0",
      "_model_name": "DescriptionStyleModel",
      "_view_count": null,
      "_view_module": "@jupyter-widgets/base",
      "_view_module_version": "1.2.0",
      "_view_name": "StyleView",
      "description_width": ""
     }
    },
    "2e358187bda14c2d8ff865888a6399de": {
     "model_module": "@jupyter-widgets/base",
     "model_module_version": "1.2.0",
     "model_name": "LayoutModel",
     "state": {
      "_model_module": "@jupyter-widgets/base",
      "_model_module_version": "1.2.0",
      "_model_name": "LayoutModel",
      "_view_count": null,
      "_view_module": "@jupyter-widgets/base",
      "_view_module_version": "1.2.0",
      "_view_name": "LayoutView",
      "align_content": null,
      "align_items": null,
      "align_self": null,
      "border": null,
      "bottom": null,
      "display": null,
      "flex": null,
      "flex_flow": null,
      "grid_area": null,
      "grid_auto_columns": null,
      "grid_auto_flow": null,
      "grid_auto_rows": null,
      "grid_column": null,
      "grid_gap": null,
      "grid_row": null,
      "grid_template_areas": null,
      "grid_template_columns": null,
      "grid_template_rows": null,
      "height": null,
      "justify_content": null,
      "justify_items": null,
      "left": null,
      "margin": null,
      "max_height": null,
      "max_width": null,
      "min_height": null,
      "min_width": null,
      "object_fit": null,
      "object_position": null,
      "order": null,
      "overflow": null,
      "overflow_x": null,
      "overflow_y": null,
      "padding": null,
      "right": null,
      "top": null,
      "visibility": null,
      "width": null
     }
    },
    "3246784af6964f4198a696d2cf3730af": {
     "model_module": "@jupyter-widgets/base",
     "model_module_version": "1.2.0",
     "model_name": "LayoutModel",
     "state": {
      "_model_module": "@jupyter-widgets/base",
      "_model_module_version": "1.2.0",
      "_model_name": "LayoutModel",
      "_view_count": null,
      "_view_module": "@jupyter-widgets/base",
      "_view_module_version": "1.2.0",
      "_view_name": "LayoutView",
      "align_content": null,
      "align_items": null,
      "align_self": null,
      "border": null,
      "bottom": null,
      "display": null,
      "flex": null,
      "flex_flow": null,
      "grid_area": null,
      "grid_auto_columns": null,
      "grid_auto_flow": null,
      "grid_auto_rows": null,
      "grid_column": null,
      "grid_gap": null,
      "grid_row": null,
      "grid_template_areas": null,
      "grid_template_columns": null,
      "grid_template_rows": null,
      "height": null,
      "justify_content": null,
      "justify_items": null,
      "left": null,
      "margin": null,
      "max_height": null,
      "max_width": null,
      "min_height": null,
      "min_width": null,
      "object_fit": null,
      "object_position": null,
      "order": null,
      "overflow": null,
      "overflow_x": null,
      "overflow_y": null,
      "padding": null,
      "right": null,
      "top": null,
      "visibility": null,
      "width": null
     }
    },
    "3f83f9fca7b44bd0a0dc4b7adcf13b85": {
     "model_module": "@jupyter-widgets/controls",
     "model_module_version": "1.5.0",
     "model_name": "DescriptionStyleModel",
     "state": {
      "_model_module": "@jupyter-widgets/controls",
      "_model_module_version": "1.5.0",
      "_model_name": "DescriptionStyleModel",
      "_view_count": null,
      "_view_module": "@jupyter-widgets/base",
      "_view_module_version": "1.2.0",
      "_view_name": "StyleView",
      "description_width": ""
     }
    },
    "435eed14b4a348db9e297a0c414f6fb1": {
     "model_module": "@jupyter-widgets/controls",
     "model_module_version": "1.5.0",
     "model_name": "PasswordModel",
     "state": {
      "_dom_classes": [],
      "_model_module": "@jupyter-widgets/controls",
      "_model_module_version": "1.5.0",
      "_model_name": "PasswordModel",
      "_view_count": null,
      "_view_module": "@jupyter-widgets/controls",
      "_view_module_version": "1.5.0",
      "_view_name": "PasswordView",
      "continuous_update": true,
      "description": "Token:",
      "description_tooltip": null,
      "disabled": false,
      "layout": "IPY_MODEL_dea7fbf9318d45a38575195c8dea5ba5",
      "placeholder": "​",
      "style": "IPY_MODEL_623b54a4cf7b4dae90da8aa120c30933",
      "value": ""
     }
    },
    "560080fcb0504969825b3bb02d78a628": {
     "model_module": "@jupyter-widgets/base",
     "model_module_version": "1.2.0",
     "model_name": "LayoutModel",
     "state": {
      "_model_module": "@jupyter-widgets/base",
      "_model_module_version": "1.2.0",
      "_model_name": "LayoutModel",
      "_view_count": null,
      "_view_module": "@jupyter-widgets/base",
      "_view_module_version": "1.2.0",
      "_view_name": "LayoutView",
      "align_content": null,
      "align_items": null,
      "align_self": null,
      "border": null,
      "bottom": null,
      "display": null,
      "flex": null,
      "flex_flow": null,
      "grid_area": null,
      "grid_auto_columns": null,
      "grid_auto_flow": null,
      "grid_auto_rows": null,
      "grid_column": null,
      "grid_gap": null,
      "grid_row": null,
      "grid_template_areas": null,
      "grid_template_columns": null,
      "grid_template_rows": null,
      "height": null,
      "justify_content": null,
      "justify_items": null,
      "left": null,
      "margin": null,
      "max_height": null,
      "max_width": null,
      "min_height": null,
      "min_width": null,
      "object_fit": null,
      "object_position": null,
      "order": null,
      "overflow": null,
      "overflow_x": null,
      "overflow_y": null,
      "padding": null,
      "right": null,
      "top": null,
      "visibility": null,
      "width": null
     }
    },
    "56a5163b0e80464ba12b7a13bfb37246": {
     "model_module": "@jupyter-widgets/base",
     "model_module_version": "1.2.0",
     "model_name": "LayoutModel",
     "state": {
      "_model_module": "@jupyter-widgets/base",
      "_model_module_version": "1.2.0",
      "_model_name": "LayoutModel",
      "_view_count": null,
      "_view_module": "@jupyter-widgets/base",
      "_view_module_version": "1.2.0",
      "_view_name": "LayoutView",
      "align_content": null,
      "align_items": null,
      "align_self": null,
      "border": null,
      "bottom": null,
      "display": null,
      "flex": null,
      "flex_flow": null,
      "grid_area": null,
      "grid_auto_columns": null,
      "grid_auto_flow": null,
      "grid_auto_rows": null,
      "grid_column": null,
      "grid_gap": null,
      "grid_row": null,
      "grid_template_areas": null,
      "grid_template_columns": null,
      "grid_template_rows": null,
      "height": null,
      "justify_content": null,
      "justify_items": null,
      "left": null,
      "margin": null,
      "max_height": null,
      "max_width": null,
      "min_height": null,
      "min_width": null,
      "object_fit": null,
      "object_position": null,
      "order": null,
      "overflow": null,
      "overflow_x": null,
      "overflow_y": null,
      "padding": null,
      "right": null,
      "top": null,
      "visibility": null,
      "width": null
     }
    },
    "623b54a4cf7b4dae90da8aa120c30933": {
     "model_module": "@jupyter-widgets/controls",
     "model_module_version": "1.5.0",
     "model_name": "DescriptionStyleModel",
     "state": {
      "_model_module": "@jupyter-widgets/controls",
      "_model_module_version": "1.5.0",
      "_model_name": "DescriptionStyleModel",
      "_view_count": null,
      "_view_module": "@jupyter-widgets/base",
      "_view_module_version": "1.2.0",
      "_view_name": "StyleView",
      "description_width": ""
     }
    },
    "6eedfd7ff0724704a8ffba4ffe236c68": {
     "model_module": "@jupyter-widgets/controls",
     "model_module_version": "1.5.0",
     "model_name": "ButtonModel",
     "state": {
      "_dom_classes": [],
      "_model_module": "@jupyter-widgets/controls",
      "_model_module_version": "1.5.0",
      "_model_name": "ButtonModel",
      "_view_count": null,
      "_view_module": "@jupyter-widgets/controls",
      "_view_module_version": "1.5.0",
      "_view_name": "ButtonView",
      "button_style": "",
      "description": "Login",
      "disabled": false,
      "icon": "",
      "layout": "IPY_MODEL_bdf8c0403bb1459ab626f3d60939c55f",
      "style": "IPY_MODEL_0d39cac34d8244c5bdb01d8c5c84aa06",
      "tooltip": ""
     }
    },
    "8142a25dbe63413f820644503f7fd8ee": {
     "model_module": "@jupyter-widgets/controls",
     "model_module_version": "1.5.0",
     "model_name": "LabelModel",
     "state": {
      "_dom_classes": [],
      "_model_module": "@jupyter-widgets/controls",
      "_model_module_version": "1.5.0",
      "_model_name": "LabelModel",
      "_view_count": null,
      "_view_module": "@jupyter-widgets/controls",
      "_view_module_version": "1.5.0",
      "_view_name": "LabelView",
      "description": "",
      "description_tooltip": null,
      "layout": "IPY_MODEL_3246784af6964f4198a696d2cf3730af",
      "placeholder": "​",
      "style": "IPY_MODEL_1cded3b11c9243a1a4bf45da01c52400",
      "value": "Connecting..."
     }
    },
    "97f445be1ac64d5aa0af80a8deb73d79": {
     "model_module": "@jupyter-widgets/controls",
     "model_module_version": "1.5.0",
     "model_name": "DescriptionStyleModel",
     "state": {
      "_model_module": "@jupyter-widgets/controls",
      "_model_module_version": "1.5.0",
      "_model_name": "DescriptionStyleModel",
      "_view_count": null,
      "_view_module": "@jupyter-widgets/base",
      "_view_module_version": "1.2.0",
      "_view_name": "StyleView",
      "description_width": ""
     }
    },
    "ac2dd8529fe44b3883693137921109a5": {
     "model_module": "@jupyter-widgets/controls",
     "model_module_version": "1.5.0",
     "model_name": "LabelModel",
     "state": {
      "_dom_classes": [],
      "_model_module": "@jupyter-widgets/controls",
      "_model_module_version": "1.5.0",
      "_model_name": "LabelModel",
      "_view_count": null,
      "_view_module": "@jupyter-widgets/controls",
      "_view_module_version": "1.5.0",
      "_view_name": "LabelView",
      "description": "",
      "description_tooltip": null,
      "layout": "IPY_MODEL_e22aa1c9332142e6a0ea4846dc7b10e3",
      "placeholder": "​",
      "style": "IPY_MODEL_3f83f9fca7b44bd0a0dc4b7adcf13b85",
      "value": "Login successful"
     }
    },
    "bdf8c0403bb1459ab626f3d60939c55f": {
     "model_module": "@jupyter-widgets/base",
     "model_module_version": "1.2.0",
     "model_name": "LayoutModel",
     "state": {
      "_model_module": "@jupyter-widgets/base",
      "_model_module_version": "1.2.0",
      "_model_name": "LayoutModel",
      "_view_count": null,
      "_view_module": "@jupyter-widgets/base",
      "_view_module_version": "1.2.0",
      "_view_name": "LayoutView",
      "align_content": null,
      "align_items": null,
      "align_self": null,
      "border": null,
      "bottom": null,
      "display": null,
      "flex": null,
      "flex_flow": null,
      "grid_area": null,
      "grid_auto_columns": null,
      "grid_auto_flow": null,
      "grid_auto_rows": null,
      "grid_column": null,
      "grid_gap": null,
      "grid_row": null,
      "grid_template_areas": null,
      "grid_template_columns": null,
      "grid_template_rows": null,
      "height": null,
      "justify_content": null,
      "justify_items": null,
      "left": null,
      "margin": null,
      "max_height": null,
      "max_width": null,
      "min_height": null,
      "min_width": null,
      "object_fit": null,
      "object_position": null,
      "order": null,
      "overflow": null,
      "overflow_x": null,
      "overflow_y": null,
      "padding": null,
      "right": null,
      "top": null,
      "visibility": null,
      "width": null
     }
    },
    "c004481286b646c4982b069cba9bb029": {
     "model_module": "@jupyter-widgets/controls",
     "model_module_version": "1.5.0",
     "model_name": "DescriptionStyleModel",
     "state": {
      "_model_module": "@jupyter-widgets/controls",
      "_model_module_version": "1.5.0",
      "_model_name": "DescriptionStyleModel",
      "_view_count": null,
      "_view_module": "@jupyter-widgets/base",
      "_view_module_version": "1.2.0",
      "_view_name": "StyleView",
      "description_width": ""
     }
    },
    "c29af07601f24a6084a15e5734162c62": {
     "model_module": "@jupyter-widgets/controls",
     "model_module_version": "1.5.0",
     "model_name": "DescriptionStyleModel",
     "state": {
      "_model_module": "@jupyter-widgets/controls",
      "_model_module_version": "1.5.0",
      "_model_name": "DescriptionStyleModel",
      "_view_count": null,
      "_view_module": "@jupyter-widgets/base",
      "_view_module_version": "1.2.0",
      "_view_name": "StyleView",
      "description_width": ""
     }
    },
    "c7f65f80cb044a3288deceb3f6871cd2": {
     "model_module": "@jupyter-widgets/controls",
     "model_module_version": "1.5.0",
     "model_name": "HTMLModel",
     "state": {
      "_dom_classes": [],
      "_model_module": "@jupyter-widgets/controls",
      "_model_module_version": "1.5.0",
      "_model_name": "HTMLModel",
      "_view_count": null,
      "_view_module": "@jupyter-widgets/controls",
      "_view_module_version": "1.5.0",
      "_view_name": "HTMLView",
      "description": "",
      "description_tooltip": null,
      "layout": "IPY_MODEL_560080fcb0504969825b3bb02d78a628",
      "placeholder": "​",
      "style": "IPY_MODEL_f177b83874ad48638a440884799af013",
      "value": "<center> <img\nsrc=https://huggingface.co/front/assets/huggingface_logo-noborder.svg\nalt='Hugging Face'> <br> Copy a token from <a\nhref=\"https://huggingface.co/settings/tokens\" target=\"_blank\">your Hugging Face\ntokens page</a> and paste it below. <br> Immediately click login after copying\nyour token or it might be stored in plain text in this notebook file. </center>"
     }
    },
    "d3cbda4ad06742e494771d56dd863d68": {
     "model_module": "@jupyter-widgets/controls",
     "model_module_version": "1.5.0",
     "model_name": "VBoxModel",
     "state": {
      "_dom_classes": [],
      "_model_module": "@jupyter-widgets/controls",
      "_model_module_version": "1.5.0",
      "_model_name": "VBoxModel",
      "_view_count": null,
      "_view_module": "@jupyter-widgets/controls",
      "_view_module_version": "1.5.0",
      "_view_name": "VBoxView",
      "box_style": "",
      "children": [
       "IPY_MODEL_1ba5c78ddbd34c0883a189c43de780b5",
       "IPY_MODEL_e741b026532f4844b64443ea3ff62012",
       "IPY_MODEL_084201ca786542d38a337505024ca1bf",
       "IPY_MODEL_ac2dd8529fe44b3883693137921109a5"
      ],
      "layout": "IPY_MODEL_d9aa96c08f7e4cc3a95f3203c1acfdf4"
     }
    },
    "d6b12c87b4454a3284457093ef4afe97": {
     "model_module": "@jupyter-widgets/base",
     "model_module_version": "1.2.0",
     "model_name": "LayoutModel",
     "state": {
      "_model_module": "@jupyter-widgets/base",
      "_model_module_version": "1.2.0",
      "_model_name": "LayoutModel",
      "_view_count": null,
      "_view_module": "@jupyter-widgets/base",
      "_view_module_version": "1.2.0",
      "_view_name": "LayoutView",
      "align_content": null,
      "align_items": null,
      "align_self": null,
      "border": null,
      "bottom": null,
      "display": null,
      "flex": null,
      "flex_flow": null,
      "grid_area": null,
      "grid_auto_columns": null,
      "grid_auto_flow": null,
      "grid_auto_rows": null,
      "grid_column": null,
      "grid_gap": null,
      "grid_row": null,
      "grid_template_areas": null,
      "grid_template_columns": null,
      "grid_template_rows": null,
      "height": null,
      "justify_content": null,
      "justify_items": null,
      "left": null,
      "margin": null,
      "max_height": null,
      "max_width": null,
      "min_height": null,
      "min_width": null,
      "object_fit": null,
      "object_position": null,
      "order": null,
      "overflow": null,
      "overflow_x": null,
      "overflow_y": null,
      "padding": null,
      "right": null,
      "top": null,
      "visibility": null,
      "width": null
     }
    },
    "d9aa96c08f7e4cc3a95f3203c1acfdf4": {
     "model_module": "@jupyter-widgets/base",
     "model_module_version": "1.2.0",
     "model_name": "LayoutModel",
     "state": {
      "_model_module": "@jupyter-widgets/base",
      "_model_module_version": "1.2.0",
      "_model_name": "LayoutModel",
      "_view_count": null,
      "_view_module": "@jupyter-widgets/base",
      "_view_module_version": "1.2.0",
      "_view_name": "LayoutView",
      "align_content": null,
      "align_items": "center",
      "align_self": null,
      "border": null,
      "bottom": null,
      "display": "flex",
      "flex": null,
      "flex_flow": "column",
      "grid_area": null,
      "grid_auto_columns": null,
      "grid_auto_flow": null,
      "grid_auto_rows": null,
      "grid_column": null,
      "grid_gap": null,
      "grid_row": null,
      "grid_template_areas": null,
      "grid_template_columns": null,
      "grid_template_rows": null,
      "height": null,
      "justify_content": null,
      "justify_items": null,
      "left": null,
      "margin": null,
      "max_height": null,
      "max_width": null,
      "min_height": null,
      "min_width": null,
      "object_fit": null,
      "object_position": null,
      "order": null,
      "overflow": null,
      "overflow_x": null,
      "overflow_y": null,
      "padding": null,
      "right": null,
      "top": null,
      "visibility": null,
      "width": "50%"
     }
    },
    "ddea72b1ec9a4190bdf867e98b0a31b3": {
     "model_module": "@jupyter-widgets/controls",
     "model_module_version": "1.5.0",
     "model_name": "DescriptionStyleModel",
     "state": {
      "_model_module": "@jupyter-widgets/controls",
      "_model_module_version": "1.5.0",
      "_model_name": "DescriptionStyleModel",
      "_view_count": null,
      "_view_module": "@jupyter-widgets/base",
      "_view_module_version": "1.2.0",
      "_view_name": "StyleView",
      "description_width": ""
     }
    },
    "dea7fbf9318d45a38575195c8dea5ba5": {
     "model_module": "@jupyter-widgets/base",
     "model_module_version": "1.2.0",
     "model_name": "LayoutModel",
     "state": {
      "_model_module": "@jupyter-widgets/base",
      "_model_module_version": "1.2.0",
      "_model_name": "LayoutModel",
      "_view_count": null,
      "_view_module": "@jupyter-widgets/base",
      "_view_module_version": "1.2.0",
      "_view_name": "LayoutView",
      "align_content": null,
      "align_items": null,
      "align_self": null,
      "border": null,
      "bottom": null,
      "display": null,
      "flex": null,
      "flex_flow": null,
      "grid_area": null,
      "grid_auto_columns": null,
      "grid_auto_flow": null,
      "grid_auto_rows": null,
      "grid_column": null,
      "grid_gap": null,
      "grid_row": null,
      "grid_template_areas": null,
      "grid_template_columns": null,
      "grid_template_rows": null,
      "height": null,
      "justify_content": null,
      "justify_items": null,
      "left": null,
      "margin": null,
      "max_height": null,
      "max_width": null,
      "min_height": null,
      "min_width": null,
      "object_fit": null,
      "object_position": null,
      "order": null,
      "overflow": null,
      "overflow_x": null,
      "overflow_y": null,
      "padding": null,
      "right": null,
      "top": null,
      "visibility": null,
      "width": null
     }
    },
    "deb425fd4ac747c2a70f3f6602f2f596": {
     "model_module": "@jupyter-widgets/base",
     "model_module_version": "1.2.0",
     "model_name": "LayoutModel",
     "state": {
      "_model_module": "@jupyter-widgets/base",
      "_model_module_version": "1.2.0",
      "_model_name": "LayoutModel",
      "_view_count": null,
      "_view_module": "@jupyter-widgets/base",
      "_view_module_version": "1.2.0",
      "_view_name": "LayoutView",
      "align_content": null,
      "align_items": null,
      "align_self": null,
      "border": null,
      "bottom": null,
      "display": null,
      "flex": null,
      "flex_flow": null,
      "grid_area": null,
      "grid_auto_columns": null,
      "grid_auto_flow": null,
      "grid_auto_rows": null,
      "grid_column": null,
      "grid_gap": null,
      "grid_row": null,
      "grid_template_areas": null,
      "grid_template_columns": null,
      "grid_template_rows": null,
      "height": null,
      "justify_content": null,
      "justify_items": null,
      "left": null,
      "margin": null,
      "max_height": null,
      "max_width": null,
      "min_height": null,
      "min_width": null,
      "object_fit": null,
      "object_position": null,
      "order": null,
      "overflow": null,
      "overflow_x": null,
      "overflow_y": null,
      "padding": null,
      "right": null,
      "top": null,
      "visibility": null,
      "width": null
     }
    },
    "e22aa1c9332142e6a0ea4846dc7b10e3": {
     "model_module": "@jupyter-widgets/base",
     "model_module_version": "1.2.0",
     "model_name": "LayoutModel",
     "state": {
      "_model_module": "@jupyter-widgets/base",
      "_model_module_version": "1.2.0",
      "_model_name": "LayoutModel",
      "_view_count": null,
      "_view_module": "@jupyter-widgets/base",
      "_view_module_version": "1.2.0",
      "_view_name": "LayoutView",
      "align_content": null,
      "align_items": null,
      "align_self": null,
      "border": null,
      "bottom": null,
      "display": null,
      "flex": null,
      "flex_flow": null,
      "grid_area": null,
      "grid_auto_columns": null,
      "grid_auto_flow": null,
      "grid_auto_rows": null,
      "grid_column": null,
      "grid_gap": null,
      "grid_row": null,
      "grid_template_areas": null,
      "grid_template_columns": null,
      "grid_template_rows": null,
      "height": null,
      "justify_content": null,
      "justify_items": null,
      "left": null,
      "margin": null,
      "max_height": null,
      "max_width": null,
      "min_height": null,
      "min_width": null,
      "object_fit": null,
      "object_position": null,
      "order": null,
      "overflow": null,
      "overflow_x": null,
      "overflow_y": null,
      "padding": null,
      "right": null,
      "top": null,
      "visibility": null,
      "width": null
     }
    },
    "e741b026532f4844b64443ea3ff62012": {
     "model_module": "@jupyter-widgets/controls",
     "model_module_version": "1.5.0",
     "model_name": "LabelModel",
     "state": {
      "_dom_classes": [],
      "_model_module": "@jupyter-widgets/controls",
      "_model_module_version": "1.5.0",
      "_model_name": "LabelModel",
      "_view_count": null,
      "_view_module": "@jupyter-widgets/controls",
      "_view_module_version": "1.5.0",
      "_view_name": "LabelView",
      "description": "",
      "description_tooltip": null,
      "layout": "IPY_MODEL_56a5163b0e80464ba12b7a13bfb37246",
      "placeholder": "​",
      "style": "IPY_MODEL_97f445be1ac64d5aa0af80a8deb73d79",
      "value": "Your token has been saved in your configured git credential helpers (store)."
     }
    },
    "ef7410ad7f67478db1b79d70f49af79d": {
     "model_module": "@jupyter-widgets/controls",
     "model_module_version": "1.5.0",
     "model_name": "HTMLModel",
     "state": {
      "_dom_classes": [],
      "_model_module": "@jupyter-widgets/controls",
      "_model_module_version": "1.5.0",
      "_model_name": "HTMLModel",
      "_view_count": null,
      "_view_module": "@jupyter-widgets/controls",
      "_view_module_version": "1.5.0",
      "_view_name": "HTMLView",
      "description": "",
      "description_tooltip": null,
      "layout": "IPY_MODEL_2e358187bda14c2d8ff865888a6399de",
      "placeholder": "​",
      "style": "IPY_MODEL_c004481286b646c4982b069cba9bb029",
      "value": "\n<b>Pro Tip:</b> If you don't already have one, you can create a dedicated\n'notebooks' token with 'write' access, that you can then easily reuse for all\nnotebooks. </center>"
     }
    },
    "f177b83874ad48638a440884799af013": {
     "model_module": "@jupyter-widgets/controls",
     "model_module_version": "1.5.0",
     "model_name": "DescriptionStyleModel",
     "state": {
      "_model_module": "@jupyter-widgets/controls",
      "_model_module_version": "1.5.0",
      "_model_name": "DescriptionStyleModel",
      "_view_count": null,
      "_view_module": "@jupyter-widgets/base",
      "_view_module_version": "1.2.0",
      "_view_name": "StyleView",
      "description_width": ""
     }
    }
   }
  }
 },
 "nbformat": 4,
 "nbformat_minor": 5
}